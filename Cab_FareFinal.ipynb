{
 "cells": [
  {
   "cell_type": "markdown",
   "metadata": {},
   "source": [
    "<h1> Objective </h1><br>\n",
    "    You are a cab rental start-up company. You have successfully run the pilot project and\n",
    "    now want to launch your cab service across the country. You have collected the\n",
    "    historical data from your pilot project and now have a requirement to apply analytics for\n",
    "    fare prediction. You need to design a system that predicts the fare amount for a cab ride\n",
    "    in the city."
   ]
  },
  {
   "cell_type": "code",
   "execution_count": 4,
   "metadata": {},
   "outputs": [
    {
     "ename": "ImportError",
     "evalue": "No module named fancyimpute",
     "output_type": "error",
     "traceback": [
      "\u001b[1;31m---------------------------------------------------------------------------\u001b[0m",
      "\u001b[1;31mImportError\u001b[0m                               Traceback (most recent call last)",
      "\u001b[1;32m<ipython-input-4-5d823b9af7cd>\u001b[0m in \u001b[0;36m<module>\u001b[1;34m()\u001b[0m\n\u001b[0;32m      4\u001b[0m \u001b[1;32mimport\u001b[0m \u001b[0mnumpy\u001b[0m \u001b[1;32mas\u001b[0m \u001b[0mnp\u001b[0m\u001b[1;33m\u001b[0m\u001b[0m\n\u001b[0;32m      5\u001b[0m \u001b[1;32mimport\u001b[0m \u001b[0mmatplotlib\u001b[0m\u001b[1;33m.\u001b[0m\u001b[0mpyplot\u001b[0m \u001b[1;32mas\u001b[0m \u001b[0mplt\u001b[0m\u001b[1;33m\u001b[0m\u001b[0m\n\u001b[1;32m----> 6\u001b[1;33m \u001b[1;32mfrom\u001b[0m \u001b[0mfancyimpute\u001b[0m \u001b[1;32mimport\u001b[0m \u001b[0mKNN\u001b[0m\u001b[1;33m\u001b[0m\u001b[0m\n\u001b[0m\u001b[0;32m      7\u001b[0m \u001b[1;32mfrom\u001b[0m \u001b[0mggplot\u001b[0m \u001b[1;32mimport\u001b[0m \u001b[1;33m*\u001b[0m\u001b[1;33m\u001b[0m\u001b[0m\n\u001b[0;32m      8\u001b[0m \u001b[1;32mimport\u001b[0m \u001b[0mseaborn\u001b[0m \u001b[1;32mas\u001b[0m \u001b[0msns\u001b[0m\u001b[1;33m\u001b[0m\u001b[0m\n",
      "\u001b[1;31mImportError\u001b[0m: No module named fancyimpute"
     ]
    }
   ],
   "source": [
    "#Loading Required Libraries\n",
    "import os\n",
    "import pandas as pd\n",
    "import numpy as np\n",
    "import matplotlib.pyplot as plt\n",
    "from fancyimpute import KNN\n",
    "from ggplot import *\n",
    "import seaborn as sns\n",
    "import datetime\n",
    "from scipy.stats import chi2_contingency"
   ]
  },
  {
   "cell_type": "code",
   "execution_count": 5,
   "metadata": {},
   "outputs": [
    {
     "ename": "WindowsError",
     "evalue": "[Error 3] The system cannot find the path specified: 'D:\\\\Data Science\\\\Edwisor\\\\Cab Fare Prediction'",
     "output_type": "error",
     "traceback": [
      "\u001b[1;31m---------------------------------------------------------------------------\u001b[0m",
      "\u001b[1;31mWindowsError\u001b[0m                              Traceback (most recent call last)",
      "\u001b[1;32m<ipython-input-5-1579d3853759>\u001b[0m in \u001b[0;36m<module>\u001b[1;34m()\u001b[0m\n\u001b[0;32m      1\u001b[0m \u001b[1;31m#Setting Working Directory\u001b[0m\u001b[1;33m\u001b[0m\u001b[1;33m\u001b[0m\u001b[0m\n\u001b[1;32m----> 2\u001b[1;33m \u001b[0mos\u001b[0m\u001b[1;33m.\u001b[0m\u001b[0mchdir\u001b[0m\u001b[1;33m(\u001b[0m\u001b[1;34m\"D:\\Data Science\\Edwisor\\Cab Fare Prediction\"\u001b[0m\u001b[1;33m)\u001b[0m\u001b[1;33m\u001b[0m\u001b[0m\n\u001b[0m",
      "\u001b[1;31mWindowsError\u001b[0m: [Error 3] The system cannot find the path specified: 'D:\\\\Data Science\\\\Edwisor\\\\Cab Fare Prediction'"
     ]
    }
   ],
   "source": [
    "#Setting Working Directory\n",
    "os.chdir(\"D:\\Data Science\\Edwisor\\Cab Fare Prediction\")"
   ]
  },
  {
   "cell_type": "code",
   "execution_count": 64,
   "metadata": {},
   "outputs": [
    {
     "data": {
      "text/plain": [
       "'D:\\\\Data Science\\\\Edwisor\\\\Cab Fare Prediction'"
      ]
     },
     "execution_count": 64,
     "metadata": {},
     "output_type": "execute_result"
    }
   ],
   "source": [
    "os.getcwd()"
   ]
  },
  {
   "cell_type": "code",
   "execution_count": 65,
   "metadata": {},
   "outputs": [],
   "source": [
    "#Loading the required dataset\n",
    "cab_train= pd.read_csv(\"train_cab.csv\")\n",
    "cab_test= pd.read_csv(\"test.csv\")"
   ]
  },
  {
   "cell_type": "markdown",
   "metadata": {},
   "source": [
    "<h3> Understanding the data</h3><br>\n",
    "Taking a look into the top 5 rows of both train and test data so that we can get some insights to it. Cheking the data types of each feature and the shape of both train and test data. Later using describe() we are looking into the min.,max, 50%, 25%, 75%, std and mean of each predictors."
   ]
  },
  {
   "cell_type": "code",
   "execution_count": 66,
   "metadata": {},
   "outputs": [
    {
     "data": {
      "text/html": [
       "<div>\n",
       "<style scoped>\n",
       "    .dataframe tbody tr th:only-of-type {\n",
       "        vertical-align: middle;\n",
       "    }\n",
       "\n",
       "    .dataframe tbody tr th {\n",
       "        vertical-align: top;\n",
       "    }\n",
       "\n",
       "    .dataframe thead th {\n",
       "        text-align: right;\n",
       "    }\n",
       "</style>\n",
       "<table border=\"1\" class=\"dataframe\">\n",
       "  <thead>\n",
       "    <tr style=\"text-align: right;\">\n",
       "      <th></th>\n",
       "      <th>fare_amount</th>\n",
       "      <th>pickup_datetime</th>\n",
       "      <th>pickup_longitude</th>\n",
       "      <th>pickup_latitude</th>\n",
       "      <th>dropoff_longitude</th>\n",
       "      <th>dropoff_latitude</th>\n",
       "      <th>passenger_count</th>\n",
       "    </tr>\n",
       "  </thead>\n",
       "  <tbody>\n",
       "    <tr>\n",
       "      <th>0</th>\n",
       "      <td>4.5</td>\n",
       "      <td>2009-06-15 17:26:21 UTC</td>\n",
       "      <td>-73.844311</td>\n",
       "      <td>40.721319</td>\n",
       "      <td>-73.841610</td>\n",
       "      <td>40.712278</td>\n",
       "      <td>1.0</td>\n",
       "    </tr>\n",
       "    <tr>\n",
       "      <th>1</th>\n",
       "      <td>16.9</td>\n",
       "      <td>2010-01-05 16:52:16 UTC</td>\n",
       "      <td>-74.016048</td>\n",
       "      <td>40.711303</td>\n",
       "      <td>-73.979268</td>\n",
       "      <td>40.782004</td>\n",
       "      <td>1.0</td>\n",
       "    </tr>\n",
       "    <tr>\n",
       "      <th>2</th>\n",
       "      <td>5.7</td>\n",
       "      <td>2011-08-18 00:35:00 UTC</td>\n",
       "      <td>-73.982738</td>\n",
       "      <td>40.761270</td>\n",
       "      <td>-73.991242</td>\n",
       "      <td>40.750562</td>\n",
       "      <td>2.0</td>\n",
       "    </tr>\n",
       "    <tr>\n",
       "      <th>3</th>\n",
       "      <td>7.7</td>\n",
       "      <td>2012-04-21 04:30:42 UTC</td>\n",
       "      <td>-73.987130</td>\n",
       "      <td>40.733143</td>\n",
       "      <td>-73.991567</td>\n",
       "      <td>40.758092</td>\n",
       "      <td>1.0</td>\n",
       "    </tr>\n",
       "    <tr>\n",
       "      <th>4</th>\n",
       "      <td>5.3</td>\n",
       "      <td>2010-03-09 07:51:00 UTC</td>\n",
       "      <td>-73.968095</td>\n",
       "      <td>40.768008</td>\n",
       "      <td>-73.956655</td>\n",
       "      <td>40.783762</td>\n",
       "      <td>1.0</td>\n",
       "    </tr>\n",
       "  </tbody>\n",
       "</table>\n",
       "</div>"
      ],
      "text/plain": [
       "  fare_amount          pickup_datetime  pickup_longitude  pickup_latitude  \\\n",
       "0         4.5  2009-06-15 17:26:21 UTC        -73.844311        40.721319   \n",
       "1        16.9  2010-01-05 16:52:16 UTC        -74.016048        40.711303   \n",
       "2         5.7  2011-08-18 00:35:00 UTC        -73.982738        40.761270   \n",
       "3         7.7  2012-04-21 04:30:42 UTC        -73.987130        40.733143   \n",
       "4         5.3  2010-03-09 07:51:00 UTC        -73.968095        40.768008   \n",
       "\n",
       "   dropoff_longitude  dropoff_latitude  passenger_count  \n",
       "0         -73.841610         40.712278              1.0  \n",
       "1         -73.979268         40.782004              1.0  \n",
       "2         -73.991242         40.750562              2.0  \n",
       "3         -73.991567         40.758092              1.0  \n",
       "4         -73.956655         40.783762              1.0  "
      ]
     },
     "execution_count": 66,
     "metadata": {},
     "output_type": "execute_result"
    }
   ],
   "source": [
    "cab_train.head()"
   ]
  },
  {
   "cell_type": "code",
   "execution_count": 67,
   "metadata": {},
   "outputs": [
    {
     "data": {
      "text/html": [
       "<div>\n",
       "<style scoped>\n",
       "    .dataframe tbody tr th:only-of-type {\n",
       "        vertical-align: middle;\n",
       "    }\n",
       "\n",
       "    .dataframe tbody tr th {\n",
       "        vertical-align: top;\n",
       "    }\n",
       "\n",
       "    .dataframe thead th {\n",
       "        text-align: right;\n",
       "    }\n",
       "</style>\n",
       "<table border=\"1\" class=\"dataframe\">\n",
       "  <thead>\n",
       "    <tr style=\"text-align: right;\">\n",
       "      <th></th>\n",
       "      <th>pickup_datetime</th>\n",
       "      <th>pickup_longitude</th>\n",
       "      <th>pickup_latitude</th>\n",
       "      <th>dropoff_longitude</th>\n",
       "      <th>dropoff_latitude</th>\n",
       "      <th>passenger_count</th>\n",
       "    </tr>\n",
       "  </thead>\n",
       "  <tbody>\n",
       "    <tr>\n",
       "      <th>0</th>\n",
       "      <td>2015-01-27 13:08:24 UTC</td>\n",
       "      <td>-73.973320</td>\n",
       "      <td>40.763805</td>\n",
       "      <td>-73.981430</td>\n",
       "      <td>40.743835</td>\n",
       "      <td>1</td>\n",
       "    </tr>\n",
       "    <tr>\n",
       "      <th>1</th>\n",
       "      <td>2015-01-27 13:08:24 UTC</td>\n",
       "      <td>-73.986862</td>\n",
       "      <td>40.719383</td>\n",
       "      <td>-73.998886</td>\n",
       "      <td>40.739201</td>\n",
       "      <td>1</td>\n",
       "    </tr>\n",
       "    <tr>\n",
       "      <th>2</th>\n",
       "      <td>2011-10-08 11:53:44 UTC</td>\n",
       "      <td>-73.982524</td>\n",
       "      <td>40.751260</td>\n",
       "      <td>-73.979654</td>\n",
       "      <td>40.746139</td>\n",
       "      <td>1</td>\n",
       "    </tr>\n",
       "    <tr>\n",
       "      <th>3</th>\n",
       "      <td>2012-12-01 21:12:12 UTC</td>\n",
       "      <td>-73.981160</td>\n",
       "      <td>40.767807</td>\n",
       "      <td>-73.990448</td>\n",
       "      <td>40.751635</td>\n",
       "      <td>1</td>\n",
       "    </tr>\n",
       "    <tr>\n",
       "      <th>4</th>\n",
       "      <td>2012-12-01 21:12:12 UTC</td>\n",
       "      <td>-73.966046</td>\n",
       "      <td>40.789775</td>\n",
       "      <td>-73.988565</td>\n",
       "      <td>40.744427</td>\n",
       "      <td>1</td>\n",
       "    </tr>\n",
       "  </tbody>\n",
       "</table>\n",
       "</div>"
      ],
      "text/plain": [
       "           pickup_datetime  pickup_longitude  pickup_latitude  \\\n",
       "0  2015-01-27 13:08:24 UTC        -73.973320        40.763805   \n",
       "1  2015-01-27 13:08:24 UTC        -73.986862        40.719383   \n",
       "2  2011-10-08 11:53:44 UTC        -73.982524        40.751260   \n",
       "3  2012-12-01 21:12:12 UTC        -73.981160        40.767807   \n",
       "4  2012-12-01 21:12:12 UTC        -73.966046        40.789775   \n",
       "\n",
       "   dropoff_longitude  dropoff_latitude  passenger_count  \n",
       "0         -73.981430         40.743835                1  \n",
       "1         -73.998886         40.739201                1  \n",
       "2         -73.979654         40.746139                1  \n",
       "3         -73.990448         40.751635                1  \n",
       "4         -73.988565         40.744427                1  "
      ]
     },
     "execution_count": 67,
     "metadata": {},
     "output_type": "execute_result"
    }
   ],
   "source": [
    "cab_test.head()"
   ]
  },
  {
   "cell_type": "code",
   "execution_count": 68,
   "metadata": {},
   "outputs": [
    {
     "name": "stdout",
     "output_type": "stream",
     "text": [
      "shape of training data is:  (16067, 7)\n",
      "shape of test data is:  (9914, 6)\n"
     ]
    }
   ],
   "source": [
    "print(\"shape of training data is: \",cab_train.shape) #checking the number of rows and columns in training data\n",
    "print(\"shape of test data is: \",cab_test.shape) #checking the number of rows and columns in test data"
   ]
  },
  {
   "cell_type": "code",
   "execution_count": 69,
   "metadata": {},
   "outputs": [
    {
     "data": {
      "text/plain": [
       "fare_amount           object\n",
       "pickup_datetime       object\n",
       "pickup_longitude     float64\n",
       "pickup_latitude      float64\n",
       "dropoff_longitude    float64\n",
       "dropoff_latitude     float64\n",
       "passenger_count      float64\n",
       "dtype: object"
      ]
     },
     "execution_count": 69,
     "metadata": {},
     "output_type": "execute_result"
    }
   ],
   "source": [
    "#Looking at the datatypes of different features in train dataset\n",
    "cab_train.dtypes"
   ]
  },
  {
   "cell_type": "code",
   "execution_count": 70,
   "metadata": {},
   "outputs": [
    {
     "data": {
      "text/plain": [
       "pickup_datetime       object\n",
       "pickup_longitude     float64\n",
       "pickup_latitude      float64\n",
       "dropoff_longitude    float64\n",
       "dropoff_latitude     float64\n",
       "passenger_count        int64\n",
       "dtype: object"
      ]
     },
     "execution_count": 70,
     "metadata": {},
     "output_type": "execute_result"
    }
   ],
   "source": [
    "cab_test.dtypes"
   ]
  },
  {
   "cell_type": "code",
   "execution_count": 71,
   "metadata": {},
   "outputs": [
    {
     "data": {
      "text/html": [
       "<div>\n",
       "<style scoped>\n",
       "    .dataframe tbody tr th:only-of-type {\n",
       "        vertical-align: middle;\n",
       "    }\n",
       "\n",
       "    .dataframe tbody tr th {\n",
       "        vertical-align: top;\n",
       "    }\n",
       "\n",
       "    .dataframe thead th {\n",
       "        text-align: right;\n",
       "    }\n",
       "</style>\n",
       "<table border=\"1\" class=\"dataframe\">\n",
       "  <thead>\n",
       "    <tr style=\"text-align: right;\">\n",
       "      <th></th>\n",
       "      <th>pickup_longitude</th>\n",
       "      <th>pickup_latitude</th>\n",
       "      <th>dropoff_longitude</th>\n",
       "      <th>dropoff_latitude</th>\n",
       "      <th>passenger_count</th>\n",
       "    </tr>\n",
       "  </thead>\n",
       "  <tbody>\n",
       "    <tr>\n",
       "      <th>count</th>\n",
       "      <td>16067.000000</td>\n",
       "      <td>16067.000000</td>\n",
       "      <td>16067.000000</td>\n",
       "      <td>16067.000000</td>\n",
       "      <td>16012.000000</td>\n",
       "    </tr>\n",
       "    <tr>\n",
       "      <th>mean</th>\n",
       "      <td>-72.462787</td>\n",
       "      <td>39.914725</td>\n",
       "      <td>-72.462328</td>\n",
       "      <td>39.897906</td>\n",
       "      <td>2.625070</td>\n",
       "    </tr>\n",
       "    <tr>\n",
       "      <th>std</th>\n",
       "      <td>10.578384</td>\n",
       "      <td>6.826587</td>\n",
       "      <td>10.575062</td>\n",
       "      <td>6.187087</td>\n",
       "      <td>60.844122</td>\n",
       "    </tr>\n",
       "    <tr>\n",
       "      <th>min</th>\n",
       "      <td>-74.438233</td>\n",
       "      <td>-74.006893</td>\n",
       "      <td>-74.429332</td>\n",
       "      <td>-74.006377</td>\n",
       "      <td>0.000000</td>\n",
       "    </tr>\n",
       "    <tr>\n",
       "      <th>25%</th>\n",
       "      <td>-73.992156</td>\n",
       "      <td>40.734927</td>\n",
       "      <td>-73.991182</td>\n",
       "      <td>40.734651</td>\n",
       "      <td>1.000000</td>\n",
       "    </tr>\n",
       "    <tr>\n",
       "      <th>50%</th>\n",
       "      <td>-73.981698</td>\n",
       "      <td>40.752603</td>\n",
       "      <td>-73.980172</td>\n",
       "      <td>40.753567</td>\n",
       "      <td>1.000000</td>\n",
       "    </tr>\n",
       "    <tr>\n",
       "      <th>75%</th>\n",
       "      <td>-73.966838</td>\n",
       "      <td>40.767381</td>\n",
       "      <td>-73.963643</td>\n",
       "      <td>40.768013</td>\n",
       "      <td>2.000000</td>\n",
       "    </tr>\n",
       "    <tr>\n",
       "      <th>max</th>\n",
       "      <td>40.766125</td>\n",
       "      <td>401.083332</td>\n",
       "      <td>40.802437</td>\n",
       "      <td>41.366138</td>\n",
       "      <td>5345.000000</td>\n",
       "    </tr>\n",
       "  </tbody>\n",
       "</table>\n",
       "</div>"
      ],
      "text/plain": [
       "       pickup_longitude  pickup_latitude  dropoff_longitude  dropoff_latitude  \\\n",
       "count      16067.000000     16067.000000       16067.000000      16067.000000   \n",
       "mean         -72.462787        39.914725         -72.462328         39.897906   \n",
       "std           10.578384         6.826587          10.575062          6.187087   \n",
       "min          -74.438233       -74.006893         -74.429332        -74.006377   \n",
       "25%          -73.992156        40.734927         -73.991182         40.734651   \n",
       "50%          -73.981698        40.752603         -73.980172         40.753567   \n",
       "75%          -73.966838        40.767381         -73.963643         40.768013   \n",
       "max           40.766125       401.083332          40.802437         41.366138   \n",
       "\n",
       "       passenger_count  \n",
       "count     16012.000000  \n",
       "mean          2.625070  \n",
       "std          60.844122  \n",
       "min           0.000000  \n",
       "25%           1.000000  \n",
       "50%           1.000000  \n",
       "75%           2.000000  \n",
       "max        5345.000000  "
      ]
     },
     "execution_count": 71,
     "metadata": {},
     "output_type": "execute_result"
    }
   ],
   "source": [
    "cab_train.describe()"
   ]
  },
  {
   "cell_type": "code",
   "execution_count": 72,
   "metadata": {},
   "outputs": [
    {
     "data": {
      "text/html": [
       "<div>\n",
       "<style scoped>\n",
       "    .dataframe tbody tr th:only-of-type {\n",
       "        vertical-align: middle;\n",
       "    }\n",
       "\n",
       "    .dataframe tbody tr th {\n",
       "        vertical-align: top;\n",
       "    }\n",
       "\n",
       "    .dataframe thead th {\n",
       "        text-align: right;\n",
       "    }\n",
       "</style>\n",
       "<table border=\"1\" class=\"dataframe\">\n",
       "  <thead>\n",
       "    <tr style=\"text-align: right;\">\n",
       "      <th></th>\n",
       "      <th>pickup_longitude</th>\n",
       "      <th>pickup_latitude</th>\n",
       "      <th>dropoff_longitude</th>\n",
       "      <th>dropoff_latitude</th>\n",
       "      <th>passenger_count</th>\n",
       "    </tr>\n",
       "  </thead>\n",
       "  <tbody>\n",
       "    <tr>\n",
       "      <th>count</th>\n",
       "      <td>9914.000000</td>\n",
       "      <td>9914.000000</td>\n",
       "      <td>9914.000000</td>\n",
       "      <td>9914.000000</td>\n",
       "      <td>9914.000000</td>\n",
       "    </tr>\n",
       "    <tr>\n",
       "      <th>mean</th>\n",
       "      <td>-73.974722</td>\n",
       "      <td>40.751041</td>\n",
       "      <td>-73.973657</td>\n",
       "      <td>40.751743</td>\n",
       "      <td>1.671273</td>\n",
       "    </tr>\n",
       "    <tr>\n",
       "      <th>std</th>\n",
       "      <td>0.042774</td>\n",
       "      <td>0.033541</td>\n",
       "      <td>0.039072</td>\n",
       "      <td>0.035435</td>\n",
       "      <td>1.278747</td>\n",
       "    </tr>\n",
       "    <tr>\n",
       "      <th>min</th>\n",
       "      <td>-74.252193</td>\n",
       "      <td>40.573143</td>\n",
       "      <td>-74.263242</td>\n",
       "      <td>40.568973</td>\n",
       "      <td>1.000000</td>\n",
       "    </tr>\n",
       "    <tr>\n",
       "      <th>25%</th>\n",
       "      <td>-73.992501</td>\n",
       "      <td>40.736125</td>\n",
       "      <td>-73.991247</td>\n",
       "      <td>40.735254</td>\n",
       "      <td>1.000000</td>\n",
       "    </tr>\n",
       "    <tr>\n",
       "      <th>50%</th>\n",
       "      <td>-73.982326</td>\n",
       "      <td>40.753051</td>\n",
       "      <td>-73.980015</td>\n",
       "      <td>40.754065</td>\n",
       "      <td>1.000000</td>\n",
       "    </tr>\n",
       "    <tr>\n",
       "      <th>75%</th>\n",
       "      <td>-73.968013</td>\n",
       "      <td>40.767113</td>\n",
       "      <td>-73.964059</td>\n",
       "      <td>40.768757</td>\n",
       "      <td>2.000000</td>\n",
       "    </tr>\n",
       "    <tr>\n",
       "      <th>max</th>\n",
       "      <td>-72.986532</td>\n",
       "      <td>41.709555</td>\n",
       "      <td>-72.990963</td>\n",
       "      <td>41.696683</td>\n",
       "      <td>6.000000</td>\n",
       "    </tr>\n",
       "  </tbody>\n",
       "</table>\n",
       "</div>"
      ],
      "text/plain": [
       "       pickup_longitude  pickup_latitude  dropoff_longitude  dropoff_latitude  \\\n",
       "count       9914.000000      9914.000000        9914.000000       9914.000000   \n",
       "mean         -73.974722        40.751041         -73.973657         40.751743   \n",
       "std            0.042774         0.033541           0.039072          0.035435   \n",
       "min          -74.252193        40.573143         -74.263242         40.568973   \n",
       "25%          -73.992501        40.736125         -73.991247         40.735254   \n",
       "50%          -73.982326        40.753051         -73.980015         40.754065   \n",
       "75%          -73.968013        40.767113         -73.964059         40.768757   \n",
       "max          -72.986532        41.709555         -72.990963         41.696683   \n",
       "\n",
       "       passenger_count  \n",
       "count      9914.000000  \n",
       "mean          1.671273  \n",
       "std           1.278747  \n",
       "min           1.000000  \n",
       "25%           1.000000  \n",
       "50%           1.000000  \n",
       "75%           2.000000  \n",
       "max           6.000000  "
      ]
     },
     "execution_count": 72,
     "metadata": {},
     "output_type": "execute_result"
    }
   ],
   "source": [
    "cab_test.describe()"
   ]
  },
  {
   "cell_type": "markdown",
   "metadata": {},
   "source": [
    "<h3> Exploratory Data Analysis(EDA)</h3>"
   ]
  },
  {
   "cell_type": "code",
   "execution_count": 73,
   "metadata": {},
   "outputs": [
    {
     "data": {
      "text/html": [
       "<div>\n",
       "<style scoped>\n",
       "    .dataframe tbody tr th:only-of-type {\n",
       "        vertical-align: middle;\n",
       "    }\n",
       "\n",
       "    .dataframe tbody tr th {\n",
       "        vertical-align: top;\n",
       "    }\n",
       "\n",
       "    .dataframe thead th {\n",
       "        text-align: right;\n",
       "    }\n",
       "</style>\n",
       "<table border=\"1\" class=\"dataframe\">\n",
       "  <thead>\n",
       "    <tr style=\"text-align: right;\">\n",
       "      <th></th>\n",
       "      <th>fare_amount</th>\n",
       "      <th>pickup_datetime</th>\n",
       "      <th>pickup_longitude</th>\n",
       "      <th>pickup_latitude</th>\n",
       "      <th>dropoff_longitude</th>\n",
       "      <th>dropoff_latitude</th>\n",
       "      <th>passenger_count</th>\n",
       "    </tr>\n",
       "  </thead>\n",
       "  <tbody>\n",
       "    <tr>\n",
       "      <th>0</th>\n",
       "      <td>4.5</td>\n",
       "      <td>2009-06-15 17:26:21 UTC</td>\n",
       "      <td>-73.844311</td>\n",
       "      <td>40.721319</td>\n",
       "      <td>-73.841610</td>\n",
       "      <td>40.712278</td>\n",
       "      <td>1.0</td>\n",
       "    </tr>\n",
       "    <tr>\n",
       "      <th>1</th>\n",
       "      <td>16.9</td>\n",
       "      <td>2010-01-05 16:52:16 UTC</td>\n",
       "      <td>-74.016048</td>\n",
       "      <td>40.711303</td>\n",
       "      <td>-73.979268</td>\n",
       "      <td>40.782004</td>\n",
       "      <td>1.0</td>\n",
       "    </tr>\n",
       "    <tr>\n",
       "      <th>2</th>\n",
       "      <td>5.7</td>\n",
       "      <td>2011-08-18 00:35:00 UTC</td>\n",
       "      <td>-73.982738</td>\n",
       "      <td>40.761270</td>\n",
       "      <td>-73.991242</td>\n",
       "      <td>40.750562</td>\n",
       "      <td>2.0</td>\n",
       "    </tr>\n",
       "    <tr>\n",
       "      <th>3</th>\n",
       "      <td>7.7</td>\n",
       "      <td>2012-04-21 04:30:42 UTC</td>\n",
       "      <td>-73.987130</td>\n",
       "      <td>40.733143</td>\n",
       "      <td>-73.991567</td>\n",
       "      <td>40.758092</td>\n",
       "      <td>1.0</td>\n",
       "    </tr>\n",
       "    <tr>\n",
       "      <th>4</th>\n",
       "      <td>5.3</td>\n",
       "      <td>2010-03-09 07:51:00 UTC</td>\n",
       "      <td>-73.968095</td>\n",
       "      <td>40.768008</td>\n",
       "      <td>-73.956655</td>\n",
       "      <td>40.783762</td>\n",
       "      <td>1.0</td>\n",
       "    </tr>\n",
       "    <tr>\n",
       "      <th>5</th>\n",
       "      <td>12.1</td>\n",
       "      <td>2011-01-06 09:50:45 UTC</td>\n",
       "      <td>-74.000964</td>\n",
       "      <td>40.731630</td>\n",
       "      <td>-73.972892</td>\n",
       "      <td>40.758233</td>\n",
       "      <td>1.0</td>\n",
       "    </tr>\n",
       "    <tr>\n",
       "      <th>6</th>\n",
       "      <td>7.5</td>\n",
       "      <td>2012-11-20 20:35:00 UTC</td>\n",
       "      <td>-73.980002</td>\n",
       "      <td>40.751662</td>\n",
       "      <td>-73.973802</td>\n",
       "      <td>40.764842</td>\n",
       "      <td>1.0</td>\n",
       "    </tr>\n",
       "    <tr>\n",
       "      <th>7</th>\n",
       "      <td>16.5</td>\n",
       "      <td>2012-01-04 17:22:00 UTC</td>\n",
       "      <td>-73.951300</td>\n",
       "      <td>40.774138</td>\n",
       "      <td>-73.990095</td>\n",
       "      <td>40.751048</td>\n",
       "      <td>1.0</td>\n",
       "    </tr>\n",
       "    <tr>\n",
       "      <th>8</th>\n",
       "      <td>NaN</td>\n",
       "      <td>2012-12-03 13:10:00 UTC</td>\n",
       "      <td>-74.006462</td>\n",
       "      <td>40.726713</td>\n",
       "      <td>-73.993078</td>\n",
       "      <td>40.731628</td>\n",
       "      <td>1.0</td>\n",
       "    </tr>\n",
       "    <tr>\n",
       "      <th>9</th>\n",
       "      <td>8.9</td>\n",
       "      <td>2009-09-02 01:11:00 UTC</td>\n",
       "      <td>-73.980658</td>\n",
       "      <td>40.733873</td>\n",
       "      <td>-73.991540</td>\n",
       "      <td>40.758138</td>\n",
       "      <td>2.0</td>\n",
       "    </tr>\n",
       "    <tr>\n",
       "      <th>10</th>\n",
       "      <td>5.3</td>\n",
       "      <td>2012-04-08 07:30:50 UTC</td>\n",
       "      <td>-73.996335</td>\n",
       "      <td>40.737142</td>\n",
       "      <td>-73.980721</td>\n",
       "      <td>40.733559</td>\n",
       "      <td>1.0</td>\n",
       "    </tr>\n",
       "    <tr>\n",
       "      <th>11</th>\n",
       "      <td>5.5</td>\n",
       "      <td>2012-12-24 11:24:00 UTC</td>\n",
       "      <td>0.000000</td>\n",
       "      <td>0.000000</td>\n",
       "      <td>0.000000</td>\n",
       "      <td>0.000000</td>\n",
       "      <td>3.0</td>\n",
       "    </tr>\n",
       "    <tr>\n",
       "      <th>12</th>\n",
       "      <td>4.1</td>\n",
       "      <td>2009-11-06 01:04:03 UTC</td>\n",
       "      <td>-73.991601</td>\n",
       "      <td>40.744712</td>\n",
       "      <td>-73.983081</td>\n",
       "      <td>40.744682</td>\n",
       "      <td>2.0</td>\n",
       "    </tr>\n",
       "    <tr>\n",
       "      <th>13</th>\n",
       "      <td>7</td>\n",
       "      <td>2013-07-02 19:54:00 UTC</td>\n",
       "      <td>-74.005360</td>\n",
       "      <td>40.728867</td>\n",
       "      <td>-74.008913</td>\n",
       "      <td>40.710907</td>\n",
       "      <td>1.0</td>\n",
       "    </tr>\n",
       "    <tr>\n",
       "      <th>14</th>\n",
       "      <td>7.7</td>\n",
       "      <td>2011-04-05 17:11:05 UTC</td>\n",
       "      <td>-74.001821</td>\n",
       "      <td>40.737547</td>\n",
       "      <td>-73.998060</td>\n",
       "      <td>40.722788</td>\n",
       "      <td>2.0</td>\n",
       "    </tr>\n",
       "    <tr>\n",
       "      <th>15</th>\n",
       "      <td>5</td>\n",
       "      <td>2013-11-23 12:57:00 UTC</td>\n",
       "      <td>0.000000</td>\n",
       "      <td>0.000000</td>\n",
       "      <td>0.000000</td>\n",
       "      <td>0.000000</td>\n",
       "      <td>1.0</td>\n",
       "    </tr>\n",
       "    <tr>\n",
       "      <th>16</th>\n",
       "      <td>12.5</td>\n",
       "      <td>2014-02-19 07:22:00 UTC</td>\n",
       "      <td>-73.986430</td>\n",
       "      <td>40.760465</td>\n",
       "      <td>-73.988990</td>\n",
       "      <td>40.737075</td>\n",
       "      <td>1.0</td>\n",
       "    </tr>\n",
       "    <tr>\n",
       "      <th>17</th>\n",
       "      <td>5.3</td>\n",
       "      <td>2009-07-22 16:08:00 UTC</td>\n",
       "      <td>-73.981060</td>\n",
       "      <td>40.737690</td>\n",
       "      <td>-73.994177</td>\n",
       "      <td>40.728412</td>\n",
       "      <td>1.0</td>\n",
       "    </tr>\n",
       "    <tr>\n",
       "      <th>18</th>\n",
       "      <td>5.3</td>\n",
       "      <td>2010-07-07 14:52:00 UTC</td>\n",
       "      <td>-73.969505</td>\n",
       "      <td>40.784843</td>\n",
       "      <td>-73.958732</td>\n",
       "      <td>40.783357</td>\n",
       "      <td>1.0</td>\n",
       "    </tr>\n",
       "    <tr>\n",
       "      <th>19</th>\n",
       "      <td>4</td>\n",
       "      <td>2014-12-06 20:36:22 UTC</td>\n",
       "      <td>-73.979815</td>\n",
       "      <td>40.751902</td>\n",
       "      <td>-73.979446</td>\n",
       "      <td>40.755481</td>\n",
       "      <td>1.0</td>\n",
       "    </tr>\n",
       "    <tr>\n",
       "      <th>20</th>\n",
       "      <td>10.5</td>\n",
       "      <td>2010-09-07 13:18:00 UTC</td>\n",
       "      <td>-73.985382</td>\n",
       "      <td>40.747858</td>\n",
       "      <td>-73.978377</td>\n",
       "      <td>40.762070</td>\n",
       "      <td>1.0</td>\n",
       "    </tr>\n",
       "    <tr>\n",
       "      <th>21</th>\n",
       "      <td>11.5</td>\n",
       "      <td>2013-02-12 12:15:46 UTC</td>\n",
       "      <td>-73.957954</td>\n",
       "      <td>40.779252</td>\n",
       "      <td>-73.961250</td>\n",
       "      <td>40.758787</td>\n",
       "      <td>1.0</td>\n",
       "    </tr>\n",
       "    <tr>\n",
       "      <th>22</th>\n",
       "      <td>4.5</td>\n",
       "      <td>2009-08-06 18:17:23 UTC</td>\n",
       "      <td>-73.991707</td>\n",
       "      <td>40.770505</td>\n",
       "      <td>-73.985459</td>\n",
       "      <td>40.763671</td>\n",
       "      <td>1.0</td>\n",
       "    </tr>\n",
       "    <tr>\n",
       "      <th>23</th>\n",
       "      <td>4.9</td>\n",
       "      <td>2010-12-06 12:29:00 UTC</td>\n",
       "      <td>-74.000632</td>\n",
       "      <td>40.747473</td>\n",
       "      <td>-73.986672</td>\n",
       "      <td>40.740577</td>\n",
       "      <td>1.0</td>\n",
       "    </tr>\n",
       "    <tr>\n",
       "      <th>24</th>\n",
       "      <td>6.1</td>\n",
       "      <td>2009-12-10 15:37:00 UTC</td>\n",
       "      <td>-73.969622</td>\n",
       "      <td>40.756973</td>\n",
       "      <td>-73.981152</td>\n",
       "      <td>40.759712</td>\n",
       "      <td>1.0</td>\n",
       "    </tr>\n",
       "    <tr>\n",
       "      <th>25</th>\n",
       "      <td>7.3</td>\n",
       "      <td>2011-06-21 16:15:00 UTC</td>\n",
       "      <td>-73.991875</td>\n",
       "      <td>40.754437</td>\n",
       "      <td>-73.977230</td>\n",
       "      <td>40.774323</td>\n",
       "      <td>3.0</td>\n",
       "    </tr>\n",
       "    <tr>\n",
       "      <th>26</th>\n",
       "      <td>NaN</td>\n",
       "      <td>2011-02-07 20:01:00 UTC</td>\n",
       "      <td>0.000000</td>\n",
       "      <td>0.000000</td>\n",
       "      <td>0.000000</td>\n",
       "      <td>0.000000</td>\n",
       "      <td>1.0</td>\n",
       "    </tr>\n",
       "    <tr>\n",
       "      <th>27</th>\n",
       "      <td>4.5</td>\n",
       "      <td>2011-06-28 19:47:00 UTC</td>\n",
       "      <td>-73.988893</td>\n",
       "      <td>40.760160</td>\n",
       "      <td>-73.986445</td>\n",
       "      <td>40.757857</td>\n",
       "      <td>3.0</td>\n",
       "    </tr>\n",
       "    <tr>\n",
       "      <th>28</th>\n",
       "      <td>9.3</td>\n",
       "      <td>2012-05-04 06:11:20 UTC</td>\n",
       "      <td>-73.989258</td>\n",
       "      <td>40.690835</td>\n",
       "      <td>-74.004133</td>\n",
       "      <td>40.725690</td>\n",
       "      <td>1.0</td>\n",
       "    </tr>\n",
       "    <tr>\n",
       "      <th>29</th>\n",
       "      <td>4.5</td>\n",
       "      <td>2013-08-11 00:52:00 UTC</td>\n",
       "      <td>-73.981020</td>\n",
       "      <td>40.737760</td>\n",
       "      <td>-73.980668</td>\n",
       "      <td>40.730497</td>\n",
       "      <td>2.0</td>\n",
       "    </tr>\n",
       "    <tr>\n",
       "      <th>...</th>\n",
       "      <td>...</td>\n",
       "      <td>...</td>\n",
       "      <td>...</td>\n",
       "      <td>...</td>\n",
       "      <td>...</td>\n",
       "      <td>...</td>\n",
       "      <td>...</td>\n",
       "    </tr>\n",
       "    <tr>\n",
       "      <th>16037</th>\n",
       "      <td>6.5</td>\n",
       "      <td>2012-02-27 21:40:50 UTC</td>\n",
       "      <td>-73.992618</td>\n",
       "      <td>40.723878</td>\n",
       "      <td>-73.977073</td>\n",
       "      <td>40.733778</td>\n",
       "      <td>1.0</td>\n",
       "    </tr>\n",
       "    <tr>\n",
       "      <th>16038</th>\n",
       "      <td>5.7</td>\n",
       "      <td>2010-08-31 10:43:42 UTC</td>\n",
       "      <td>-73.990336</td>\n",
       "      <td>40.718973</td>\n",
       "      <td>-73.956060</td>\n",
       "      <td>40.713974</td>\n",
       "      <td>1.0</td>\n",
       "    </tr>\n",
       "    <tr>\n",
       "      <th>16039</th>\n",
       "      <td>12.9</td>\n",
       "      <td>2010-12-11 16:25:00 UTC</td>\n",
       "      <td>-73.936462</td>\n",
       "      <td>40.794292</td>\n",
       "      <td>-73.948747</td>\n",
       "      <td>40.779097</td>\n",
       "      <td>5.0</td>\n",
       "    </tr>\n",
       "    <tr>\n",
       "      <th>16040</th>\n",
       "      <td>6.5</td>\n",
       "      <td>2014-06-16 00:05:19 UTC</td>\n",
       "      <td>-73.980597</td>\n",
       "      <td>40.744267</td>\n",
       "      <td>-73.979330</td>\n",
       "      <td>40.731205</td>\n",
       "      <td>1.0</td>\n",
       "    </tr>\n",
       "    <tr>\n",
       "      <th>16041</th>\n",
       "      <td>11</td>\n",
       "      <td>2014-11-17 21:53:00 UTC</td>\n",
       "      <td>-73.983610</td>\n",
       "      <td>40.747090</td>\n",
       "      <td>-73.961310</td>\n",
       "      <td>40.770980</td>\n",
       "      <td>1.0</td>\n",
       "    </tr>\n",
       "    <tr>\n",
       "      <th>16042</th>\n",
       "      <td>8.5</td>\n",
       "      <td>2015-04-06 21:53:06 UTC</td>\n",
       "      <td>-73.991425</td>\n",
       "      <td>40.749832</td>\n",
       "      <td>-74.000107</td>\n",
       "      <td>40.727898</td>\n",
       "      <td>2.0</td>\n",
       "    </tr>\n",
       "    <tr>\n",
       "      <th>16043</th>\n",
       "      <td>8.5</td>\n",
       "      <td>2011-11-17 10:58:05 UTC</td>\n",
       "      <td>-73.973961</td>\n",
       "      <td>40.764055</td>\n",
       "      <td>-73.986807</td>\n",
       "      <td>40.751617</td>\n",
       "      <td>2.0</td>\n",
       "    </tr>\n",
       "    <tr>\n",
       "      <th>16044</th>\n",
       "      <td>16.5</td>\n",
       "      <td>2013-04-29 03:05:45 UTC</td>\n",
       "      <td>-73.982785</td>\n",
       "      <td>40.731421</td>\n",
       "      <td>-74.011358</td>\n",
       "      <td>40.713788</td>\n",
       "      <td>1.0</td>\n",
       "    </tr>\n",
       "    <tr>\n",
       "      <th>16045</th>\n",
       "      <td>6.5</td>\n",
       "      <td>2013-09-19 23:56:00 UTC</td>\n",
       "      <td>-73.995227</td>\n",
       "      <td>40.733475</td>\n",
       "      <td>-73.984030</td>\n",
       "      <td>40.743287</td>\n",
       "      <td>2.0</td>\n",
       "    </tr>\n",
       "    <tr>\n",
       "      <th>16046</th>\n",
       "      <td>6</td>\n",
       "      <td>2014-04-24 01:48:40 UTC</td>\n",
       "      <td>-73.976298</td>\n",
       "      <td>40.753948</td>\n",
       "      <td>-73.993062</td>\n",
       "      <td>40.744550</td>\n",
       "      <td>1.0</td>\n",
       "    </tr>\n",
       "    <tr>\n",
       "      <th>16047</th>\n",
       "      <td>6.1</td>\n",
       "      <td>2010-03-18 11:09:00 UTC</td>\n",
       "      <td>-73.970733</td>\n",
       "      <td>40.758193</td>\n",
       "      <td>-73.979457</td>\n",
       "      <td>40.755830</td>\n",
       "      <td>1.0</td>\n",
       "    </tr>\n",
       "    <tr>\n",
       "      <th>16048</th>\n",
       "      <td>9.7</td>\n",
       "      <td>2012-07-10 17:32:00 UTC</td>\n",
       "      <td>-73.988040</td>\n",
       "      <td>40.774902</td>\n",
       "      <td>-74.005265</td>\n",
       "      <td>40.744157</td>\n",
       "      <td>1.0</td>\n",
       "    </tr>\n",
       "    <tr>\n",
       "      <th>16049</th>\n",
       "      <td>15.7</td>\n",
       "      <td>2012-07-31 12:27:00 UTC</td>\n",
       "      <td>-74.008657</td>\n",
       "      <td>40.715975</td>\n",
       "      <td>-73.975653</td>\n",
       "      <td>40.751233</td>\n",
       "      <td>4.0</td>\n",
       "    </tr>\n",
       "    <tr>\n",
       "      <th>16050</th>\n",
       "      <td>8.5</td>\n",
       "      <td>2013-01-23 07:36:49 UTC</td>\n",
       "      <td>-73.996715</td>\n",
       "      <td>40.742504</td>\n",
       "      <td>-73.977987</td>\n",
       "      <td>40.751805</td>\n",
       "      <td>1.0</td>\n",
       "    </tr>\n",
       "    <tr>\n",
       "      <th>16051</th>\n",
       "      <td>11.5</td>\n",
       "      <td>2014-10-01 20:05:00 UTC</td>\n",
       "      <td>-73.975540</td>\n",
       "      <td>40.755590</td>\n",
       "      <td>-73.944780</td>\n",
       "      <td>40.780050</td>\n",
       "      <td>2.0</td>\n",
       "    </tr>\n",
       "    <tr>\n",
       "      <th>16052</th>\n",
       "      <td>10</td>\n",
       "      <td>2014-10-03 22:24:00 UTC</td>\n",
       "      <td>-73.987298</td>\n",
       "      <td>40.722007</td>\n",
       "      <td>-74.000267</td>\n",
       "      <td>40.730342</td>\n",
       "      <td>5.0</td>\n",
       "    </tr>\n",
       "    <tr>\n",
       "      <th>16053</th>\n",
       "      <td>4</td>\n",
       "      <td>2014-09-23 09:49:00 UTC</td>\n",
       "      <td>-73.954977</td>\n",
       "      <td>40.788582</td>\n",
       "      <td>-73.964227</td>\n",
       "      <td>40.792305</td>\n",
       "      <td>1.0</td>\n",
       "    </tr>\n",
       "    <tr>\n",
       "      <th>16054</th>\n",
       "      <td>5.3</td>\n",
       "      <td>2009-11-28 15:58:02 UTC</td>\n",
       "      <td>-73.993929</td>\n",
       "      <td>40.756944</td>\n",
       "      <td>-73.993044</td>\n",
       "      <td>40.744088</td>\n",
       "      <td>1.0</td>\n",
       "    </tr>\n",
       "    <tr>\n",
       "      <th>16055</th>\n",
       "      <td>48.3</td>\n",
       "      <td>2012-09-05 17:34:00 UTC</td>\n",
       "      <td>-73.994077</td>\n",
       "      <td>40.741242</td>\n",
       "      <td>-73.830257</td>\n",
       "      <td>40.763645</td>\n",
       "      <td>1.0</td>\n",
       "    </tr>\n",
       "    <tr>\n",
       "      <th>16056</th>\n",
       "      <td>38.3</td>\n",
       "      <td>2012-12-17 14:59:16 UTC</td>\n",
       "      <td>0.000000</td>\n",
       "      <td>0.000000</td>\n",
       "      <td>0.000000</td>\n",
       "      <td>0.000000</td>\n",
       "      <td>1.0</td>\n",
       "    </tr>\n",
       "    <tr>\n",
       "      <th>16057</th>\n",
       "      <td>5</td>\n",
       "      <td>2013-01-31 15:46:00 UTC</td>\n",
       "      <td>-73.963582</td>\n",
       "      <td>40.774242</td>\n",
       "      <td>-73.956525</td>\n",
       "      <td>40.783952</td>\n",
       "      <td>6.0</td>\n",
       "    </tr>\n",
       "    <tr>\n",
       "      <th>16058</th>\n",
       "      <td>5.5</td>\n",
       "      <td>2014-04-19 14:58:57 UTC</td>\n",
       "      <td>-73.974265</td>\n",
       "      <td>40.756048</td>\n",
       "      <td>-73.980885</td>\n",
       "      <td>40.746838</td>\n",
       "      <td>2.0</td>\n",
       "    </tr>\n",
       "    <tr>\n",
       "      <th>16059</th>\n",
       "      <td>5.3</td>\n",
       "      <td>2010-01-03 18:26:00 UTC</td>\n",
       "      <td>-73.973297</td>\n",
       "      <td>40.743768</td>\n",
       "      <td>-73.986060</td>\n",
       "      <td>40.730768</td>\n",
       "      <td>3.0</td>\n",
       "    </tr>\n",
       "    <tr>\n",
       "      <th>16060</th>\n",
       "      <td>22</td>\n",
       "      <td>2014-10-01 09:15:00 UTC</td>\n",
       "      <td>-73.954582</td>\n",
       "      <td>40.778047</td>\n",
       "      <td>-74.005982</td>\n",
       "      <td>40.742117</td>\n",
       "      <td>1.0</td>\n",
       "    </tr>\n",
       "    <tr>\n",
       "      <th>16061</th>\n",
       "      <td>10.9</td>\n",
       "      <td>2009-05-20 18:56:42 UTC</td>\n",
       "      <td>-73.994191</td>\n",
       "      <td>40.751138</td>\n",
       "      <td>-73.962769</td>\n",
       "      <td>40.769719</td>\n",
       "      <td>1.0</td>\n",
       "    </tr>\n",
       "    <tr>\n",
       "      <th>16062</th>\n",
       "      <td>6.5</td>\n",
       "      <td>2014-12-12 07:41:00 UTC</td>\n",
       "      <td>-74.008820</td>\n",
       "      <td>40.718757</td>\n",
       "      <td>-73.998865</td>\n",
       "      <td>40.719987</td>\n",
       "      <td>1.0</td>\n",
       "    </tr>\n",
       "    <tr>\n",
       "      <th>16063</th>\n",
       "      <td>16.1</td>\n",
       "      <td>2009-07-13 07:58:00 UTC</td>\n",
       "      <td>-73.981310</td>\n",
       "      <td>40.781695</td>\n",
       "      <td>-74.014392</td>\n",
       "      <td>40.715527</td>\n",
       "      <td>2.0</td>\n",
       "    </tr>\n",
       "    <tr>\n",
       "      <th>16064</th>\n",
       "      <td>8.5</td>\n",
       "      <td>2009-11-11 11:19:07 UTC</td>\n",
       "      <td>-73.972507</td>\n",
       "      <td>40.753417</td>\n",
       "      <td>-73.979577</td>\n",
       "      <td>40.765495</td>\n",
       "      <td>1.0</td>\n",
       "    </tr>\n",
       "    <tr>\n",
       "      <th>16065</th>\n",
       "      <td>8.1</td>\n",
       "      <td>2010-05-11 23:53:00 UTC</td>\n",
       "      <td>-73.957027</td>\n",
       "      <td>40.765945</td>\n",
       "      <td>-73.981983</td>\n",
       "      <td>40.779560</td>\n",
       "      <td>1.0</td>\n",
       "    </tr>\n",
       "    <tr>\n",
       "      <th>16066</th>\n",
       "      <td>8.5</td>\n",
       "      <td>2011-12-14 06:24:33 UTC</td>\n",
       "      <td>-74.002111</td>\n",
       "      <td>40.729755</td>\n",
       "      <td>-73.983877</td>\n",
       "      <td>40.761975</td>\n",
       "      <td>NaN</td>\n",
       "    </tr>\n",
       "  </tbody>\n",
       "</table>\n",
       "<p>16067 rows × 7 columns</p>\n",
       "</div>"
      ],
      "text/plain": [
       "      fare_amount          pickup_datetime  pickup_longitude  pickup_latitude  \\\n",
       "0             4.5  2009-06-15 17:26:21 UTC        -73.844311        40.721319   \n",
       "1            16.9  2010-01-05 16:52:16 UTC        -74.016048        40.711303   \n",
       "2             5.7  2011-08-18 00:35:00 UTC        -73.982738        40.761270   \n",
       "3             7.7  2012-04-21 04:30:42 UTC        -73.987130        40.733143   \n",
       "4             5.3  2010-03-09 07:51:00 UTC        -73.968095        40.768008   \n",
       "5            12.1  2011-01-06 09:50:45 UTC        -74.000964        40.731630   \n",
       "6             7.5  2012-11-20 20:35:00 UTC        -73.980002        40.751662   \n",
       "7            16.5  2012-01-04 17:22:00 UTC        -73.951300        40.774138   \n",
       "8             NaN  2012-12-03 13:10:00 UTC        -74.006462        40.726713   \n",
       "9             8.9  2009-09-02 01:11:00 UTC        -73.980658        40.733873   \n",
       "10            5.3  2012-04-08 07:30:50 UTC        -73.996335        40.737142   \n",
       "11            5.5  2012-12-24 11:24:00 UTC          0.000000         0.000000   \n",
       "12            4.1  2009-11-06 01:04:03 UTC        -73.991601        40.744712   \n",
       "13              7  2013-07-02 19:54:00 UTC        -74.005360        40.728867   \n",
       "14            7.7  2011-04-05 17:11:05 UTC        -74.001821        40.737547   \n",
       "15              5  2013-11-23 12:57:00 UTC          0.000000         0.000000   \n",
       "16           12.5  2014-02-19 07:22:00 UTC        -73.986430        40.760465   \n",
       "17            5.3  2009-07-22 16:08:00 UTC        -73.981060        40.737690   \n",
       "18            5.3  2010-07-07 14:52:00 UTC        -73.969505        40.784843   \n",
       "19              4  2014-12-06 20:36:22 UTC        -73.979815        40.751902   \n",
       "20           10.5  2010-09-07 13:18:00 UTC        -73.985382        40.747858   \n",
       "21           11.5  2013-02-12 12:15:46 UTC        -73.957954        40.779252   \n",
       "22            4.5  2009-08-06 18:17:23 UTC        -73.991707        40.770505   \n",
       "23            4.9  2010-12-06 12:29:00 UTC        -74.000632        40.747473   \n",
       "24            6.1  2009-12-10 15:37:00 UTC        -73.969622        40.756973   \n",
       "25            7.3  2011-06-21 16:15:00 UTC        -73.991875        40.754437   \n",
       "26            NaN  2011-02-07 20:01:00 UTC          0.000000         0.000000   \n",
       "27            4.5  2011-06-28 19:47:00 UTC        -73.988893        40.760160   \n",
       "28            9.3  2012-05-04 06:11:20 UTC        -73.989258        40.690835   \n",
       "29            4.5  2013-08-11 00:52:00 UTC        -73.981020        40.737760   \n",
       "...           ...                      ...               ...              ...   \n",
       "16037         6.5  2012-02-27 21:40:50 UTC        -73.992618        40.723878   \n",
       "16038         5.7  2010-08-31 10:43:42 UTC        -73.990336        40.718973   \n",
       "16039        12.9  2010-12-11 16:25:00 UTC        -73.936462        40.794292   \n",
       "16040         6.5  2014-06-16 00:05:19 UTC        -73.980597        40.744267   \n",
       "16041          11  2014-11-17 21:53:00 UTC        -73.983610        40.747090   \n",
       "16042         8.5  2015-04-06 21:53:06 UTC        -73.991425        40.749832   \n",
       "16043         8.5  2011-11-17 10:58:05 UTC        -73.973961        40.764055   \n",
       "16044        16.5  2013-04-29 03:05:45 UTC        -73.982785        40.731421   \n",
       "16045         6.5  2013-09-19 23:56:00 UTC        -73.995227        40.733475   \n",
       "16046           6  2014-04-24 01:48:40 UTC        -73.976298        40.753948   \n",
       "16047         6.1  2010-03-18 11:09:00 UTC        -73.970733        40.758193   \n",
       "16048         9.7  2012-07-10 17:32:00 UTC        -73.988040        40.774902   \n",
       "16049        15.7  2012-07-31 12:27:00 UTC        -74.008657        40.715975   \n",
       "16050         8.5  2013-01-23 07:36:49 UTC        -73.996715        40.742504   \n",
       "16051        11.5  2014-10-01 20:05:00 UTC        -73.975540        40.755590   \n",
       "16052          10  2014-10-03 22:24:00 UTC        -73.987298        40.722007   \n",
       "16053           4  2014-09-23 09:49:00 UTC        -73.954977        40.788582   \n",
       "16054         5.3  2009-11-28 15:58:02 UTC        -73.993929        40.756944   \n",
       "16055        48.3  2012-09-05 17:34:00 UTC        -73.994077        40.741242   \n",
       "16056        38.3  2012-12-17 14:59:16 UTC          0.000000         0.000000   \n",
       "16057           5  2013-01-31 15:46:00 UTC        -73.963582        40.774242   \n",
       "16058         5.5  2014-04-19 14:58:57 UTC        -73.974265        40.756048   \n",
       "16059         5.3  2010-01-03 18:26:00 UTC        -73.973297        40.743768   \n",
       "16060          22  2014-10-01 09:15:00 UTC        -73.954582        40.778047   \n",
       "16061        10.9  2009-05-20 18:56:42 UTC        -73.994191        40.751138   \n",
       "16062         6.5  2014-12-12 07:41:00 UTC        -74.008820        40.718757   \n",
       "16063        16.1  2009-07-13 07:58:00 UTC        -73.981310        40.781695   \n",
       "16064         8.5  2009-11-11 11:19:07 UTC        -73.972507        40.753417   \n",
       "16065         8.1  2010-05-11 23:53:00 UTC        -73.957027        40.765945   \n",
       "16066         8.5  2011-12-14 06:24:33 UTC        -74.002111        40.729755   \n",
       "\n",
       "       dropoff_longitude  dropoff_latitude  passenger_count  \n",
       "0             -73.841610         40.712278              1.0  \n",
       "1             -73.979268         40.782004              1.0  \n",
       "2             -73.991242         40.750562              2.0  \n",
       "3             -73.991567         40.758092              1.0  \n",
       "4             -73.956655         40.783762              1.0  \n",
       "5             -73.972892         40.758233              1.0  \n",
       "6             -73.973802         40.764842              1.0  \n",
       "7             -73.990095         40.751048              1.0  \n",
       "8             -73.993078         40.731628              1.0  \n",
       "9             -73.991540         40.758138              2.0  \n",
       "10            -73.980721         40.733559              1.0  \n",
       "11              0.000000          0.000000              3.0  \n",
       "12            -73.983081         40.744682              2.0  \n",
       "13            -74.008913         40.710907              1.0  \n",
       "14            -73.998060         40.722788              2.0  \n",
       "15              0.000000          0.000000              1.0  \n",
       "16            -73.988990         40.737075              1.0  \n",
       "17            -73.994177         40.728412              1.0  \n",
       "18            -73.958732         40.783357              1.0  \n",
       "19            -73.979446         40.755481              1.0  \n",
       "20            -73.978377         40.762070              1.0  \n",
       "21            -73.961250         40.758787              1.0  \n",
       "22            -73.985459         40.763671              1.0  \n",
       "23            -73.986672         40.740577              1.0  \n",
       "24            -73.981152         40.759712              1.0  \n",
       "25            -73.977230         40.774323              3.0  \n",
       "26              0.000000          0.000000              1.0  \n",
       "27            -73.986445         40.757857              3.0  \n",
       "28            -74.004133         40.725690              1.0  \n",
       "29            -73.980668         40.730497              2.0  \n",
       "...                  ...               ...              ...  \n",
       "16037         -73.977073         40.733778              1.0  \n",
       "16038         -73.956060         40.713974              1.0  \n",
       "16039         -73.948747         40.779097              5.0  \n",
       "16040         -73.979330         40.731205              1.0  \n",
       "16041         -73.961310         40.770980              1.0  \n",
       "16042         -74.000107         40.727898              2.0  \n",
       "16043         -73.986807         40.751617              2.0  \n",
       "16044         -74.011358         40.713788              1.0  \n",
       "16045         -73.984030         40.743287              2.0  \n",
       "16046         -73.993062         40.744550              1.0  \n",
       "16047         -73.979457         40.755830              1.0  \n",
       "16048         -74.005265         40.744157              1.0  \n",
       "16049         -73.975653         40.751233              4.0  \n",
       "16050         -73.977987         40.751805              1.0  \n",
       "16051         -73.944780         40.780050              2.0  \n",
       "16052         -74.000267         40.730342              5.0  \n",
       "16053         -73.964227         40.792305              1.0  \n",
       "16054         -73.993044         40.744088              1.0  \n",
       "16055         -73.830257         40.763645              1.0  \n",
       "16056           0.000000          0.000000              1.0  \n",
       "16057         -73.956525         40.783952              6.0  \n",
       "16058         -73.980885         40.746838              2.0  \n",
       "16059         -73.986060         40.730768              3.0  \n",
       "16060         -74.005982         40.742117              1.0  \n",
       "16061         -73.962769         40.769719              1.0  \n",
       "16062         -73.998865         40.719987              1.0  \n",
       "16063         -74.014392         40.715527              2.0  \n",
       "16064         -73.979577         40.765495              1.0  \n",
       "16065         -73.981983         40.779560              1.0  \n",
       "16066         -73.983877         40.761975              NaN  \n",
       "\n",
       "[16067 rows x 7 columns]"
      ]
     },
     "execution_count": 73,
     "metadata": {},
     "output_type": "execute_result"
    }
   ],
   "source": [
    " #dropping NA values in datetime column\n",
    "cab_train.dropna(subset= [\"pickup_datetime\"])  "
   ]
  },
  {
   "cell_type": "code",
   "execution_count": 74,
   "metadata": {},
   "outputs": [
    {
     "data": {
      "text/plain": [
       "(16067, 7)"
      ]
     },
     "execution_count": 74,
     "metadata": {},
     "output_type": "execute_result"
    }
   ],
   "source": [
    "cab_train.shape"
   ]
  },
  {
   "cell_type": "code",
   "execution_count": 75,
   "metadata": {},
   "outputs": [
    {
     "data": {
      "text/html": [
       "<div>\n",
       "<style scoped>\n",
       "    .dataframe tbody tr th:only-of-type {\n",
       "        vertical-align: middle;\n",
       "    }\n",
       "\n",
       "    .dataframe tbody tr th {\n",
       "        vertical-align: top;\n",
       "    }\n",
       "\n",
       "    .dataframe thead th {\n",
       "        text-align: right;\n",
       "    }\n",
       "</style>\n",
       "<table border=\"1\" class=\"dataframe\">\n",
       "  <thead>\n",
       "    <tr style=\"text-align: right;\">\n",
       "      <th></th>\n",
       "      <th>fare_amount</th>\n",
       "      <th>pickup_longitude</th>\n",
       "      <th>pickup_latitude</th>\n",
       "      <th>dropoff_longitude</th>\n",
       "      <th>dropoff_latitude</th>\n",
       "      <th>passenger_count</th>\n",
       "    </tr>\n",
       "  </thead>\n",
       "  <tbody>\n",
       "    <tr>\n",
       "      <th>count</th>\n",
       "      <td>16042.000000</td>\n",
       "      <td>16067.000000</td>\n",
       "      <td>16067.000000</td>\n",
       "      <td>16067.000000</td>\n",
       "      <td>16067.000000</td>\n",
       "      <td>16012.000000</td>\n",
       "    </tr>\n",
       "    <tr>\n",
       "      <th>mean</th>\n",
       "      <td>15.015004</td>\n",
       "      <td>-72.462787</td>\n",
       "      <td>39.914725</td>\n",
       "      <td>-72.462328</td>\n",
       "      <td>39.897906</td>\n",
       "      <td>2.625070</td>\n",
       "    </tr>\n",
       "    <tr>\n",
       "      <th>std</th>\n",
       "      <td>430.460945</td>\n",
       "      <td>10.578384</td>\n",
       "      <td>6.826587</td>\n",
       "      <td>10.575062</td>\n",
       "      <td>6.187087</td>\n",
       "      <td>60.844122</td>\n",
       "    </tr>\n",
       "    <tr>\n",
       "      <th>min</th>\n",
       "      <td>-3.000000</td>\n",
       "      <td>-74.438233</td>\n",
       "      <td>-74.006893</td>\n",
       "      <td>-74.429332</td>\n",
       "      <td>-74.006377</td>\n",
       "      <td>0.000000</td>\n",
       "    </tr>\n",
       "    <tr>\n",
       "      <th>25%</th>\n",
       "      <td>6.000000</td>\n",
       "      <td>-73.992156</td>\n",
       "      <td>40.734927</td>\n",
       "      <td>-73.991182</td>\n",
       "      <td>40.734651</td>\n",
       "      <td>1.000000</td>\n",
       "    </tr>\n",
       "    <tr>\n",
       "      <th>50%</th>\n",
       "      <td>8.500000</td>\n",
       "      <td>-73.981698</td>\n",
       "      <td>40.752603</td>\n",
       "      <td>-73.980172</td>\n",
       "      <td>40.753567</td>\n",
       "      <td>1.000000</td>\n",
       "    </tr>\n",
       "    <tr>\n",
       "      <th>75%</th>\n",
       "      <td>12.500000</td>\n",
       "      <td>-73.966838</td>\n",
       "      <td>40.767381</td>\n",
       "      <td>-73.963643</td>\n",
       "      <td>40.768013</td>\n",
       "      <td>2.000000</td>\n",
       "    </tr>\n",
       "    <tr>\n",
       "      <th>max</th>\n",
       "      <td>54343.000000</td>\n",
       "      <td>40.766125</td>\n",
       "      <td>401.083332</td>\n",
       "      <td>40.802437</td>\n",
       "      <td>41.366138</td>\n",
       "      <td>5345.000000</td>\n",
       "    </tr>\n",
       "  </tbody>\n",
       "</table>\n",
       "</div>"
      ],
      "text/plain": [
       "        fare_amount  pickup_longitude  pickup_latitude  dropoff_longitude  \\\n",
       "count  16042.000000      16067.000000     16067.000000       16067.000000   \n",
       "mean      15.015004        -72.462787        39.914725         -72.462328   \n",
       "std      430.460945         10.578384         6.826587          10.575062   \n",
       "min       -3.000000        -74.438233       -74.006893         -74.429332   \n",
       "25%        6.000000        -73.992156        40.734927         -73.991182   \n",
       "50%        8.500000        -73.981698        40.752603         -73.980172   \n",
       "75%       12.500000        -73.966838        40.767381         -73.963643   \n",
       "max    54343.000000         40.766125       401.083332          40.802437   \n",
       "\n",
       "       dropoff_latitude  passenger_count  \n",
       "count      16067.000000     16012.000000  \n",
       "mean          39.897906         2.625070  \n",
       "std            6.187087        60.844122  \n",
       "min          -74.006377         0.000000  \n",
       "25%           40.734651         1.000000  \n",
       "50%           40.753567         1.000000  \n",
       "75%           40.768013         2.000000  \n",
       "max           41.366138      5345.000000  "
      ]
     },
     "execution_count": 75,
     "metadata": {},
     "output_type": "execute_result"
    }
   ],
   "source": [
    "# converting datatype of fare amount to numeric\n",
    "cab_train['fare_amount']=pd.to_numeric(cab_train['fare_amount'], errors= 'coerce')\n",
    "cab_train.describe()"
   ]
  },
  {
   "cell_type": "code",
   "execution_count": 76,
   "metadata": {},
   "outputs": [],
   "source": [
    "#Converting the the data type of pickup_datetime to timestamp for train dataset\n",
    "cab_train['pickup_datetime']= pd.to_datetime(cab_train.pickup_datetime, errors= \"coerce\")"
   ]
  },
  {
   "cell_type": "code",
   "execution_count": 77,
   "metadata": {},
   "outputs": [],
   "source": [
    "#Extracting pickup date, day, month, hour and minute from pickup_datetime\n",
    "cab_train['pickup_date']= cab_train.pickup_datetime.dt.day\n",
    "cab_train['pickup_hour']= cab_train.pickup_datetime.dt.hour\n",
    "cab_train['pickup_month']= cab_train.pickup_datetime.dt.month\n",
    "cab_train['pickup_weekday']= cab_train.pickup_datetime.dt.weekday\n",
    "cab_train['pickup_minute']= cab_train.pickup_datetime.dt.minute"
   ]
  },
  {
   "cell_type": "code",
   "execution_count": 78,
   "metadata": {},
   "outputs": [
    {
     "data": {
      "text/plain": [
       "fare_amount                 float64\n",
       "pickup_datetime      datetime64[ns]\n",
       "pickup_longitude            float64\n",
       "pickup_latitude             float64\n",
       "dropoff_longitude           float64\n",
       "dropoff_latitude            float64\n",
       "passenger_count             float64\n",
       "pickup_date                 float64\n",
       "pickup_hour                 float64\n",
       "pickup_month                float64\n",
       "pickup_weekday              float64\n",
       "pickup_minute               float64\n",
       "dtype: object"
      ]
     },
     "execution_count": 78,
     "metadata": {},
     "output_type": "execute_result"
    }
   ],
   "source": [
    "cab_train.dtypes"
   ]
  },
  {
   "cell_type": "code",
   "execution_count": 79,
   "metadata": {},
   "outputs": [],
   "source": [
    "#Converting the the data type of pickup_datetime to timestamp for test dataset\n",
    "cab_test['pickup_datetime']= pd.to_datetime(cab_test.pickup_datetime, errors= \"coerce\")"
   ]
  },
  {
   "cell_type": "code",
   "execution_count": 80,
   "metadata": {},
   "outputs": [],
   "source": [
    "cab_test['pickup_date']= cab_test.pickup_datetime.dt.day\n",
    "cab_test['pickup_hour']= cab_test.pickup_datetime.dt.hour\n",
    "cab_test['pickup_month']= cab_test.pickup_datetime.dt.month\n",
    "cab_test['pickup_weekday']= cab_test.pickup_datetime.dt.weekday\n",
    "cab_test['pickup_minute']= cab_test.pickup_datetime.dt.minute"
   ]
  },
  {
   "cell_type": "code",
   "execution_count": 81,
   "metadata": {},
   "outputs": [
    {
     "data": {
      "text/plain": [
       "pickup_datetime      datetime64[ns]\n",
       "pickup_longitude            float64\n",
       "pickup_latitude             float64\n",
       "dropoff_longitude           float64\n",
       "dropoff_latitude            float64\n",
       "passenger_count               int64\n",
       "pickup_date                   int64\n",
       "pickup_hour                   int64\n",
       "pickup_month                  int64\n",
       "pickup_weekday                int64\n",
       "pickup_minute                 int64\n",
       "dtype: object"
      ]
     },
     "execution_count": 81,
     "metadata": {},
     "output_type": "execute_result"
    }
   ],
   "source": [
    "cab_test.dtypes"
   ]
  },
  {
   "cell_type": "code",
   "execution_count": 82,
   "metadata": {},
   "outputs": [
    {
     "name": "stdout",
     "output_type": "stream",
     "text": [
      "(16066, 12)\n",
      "0\n"
     ]
    }
   ],
   "source": [
    "cab_train = cab_train.drop(cab_train[cab_train['pickup_datetime'].isnull()].index, axis=0)\n",
    "print(cab_train.shape)\n",
    "print(cab_train['pickup_datetime'].isnull().sum())"
   ]
  },
  {
   "cell_type": "code",
   "execution_count": 83,
   "metadata": {},
   "outputs": [
    {
     "data": {
      "text/plain": [
       "count    16011.000000\n",
       "mean         2.625171\n",
       "std         60.846021\n",
       "min          0.000000\n",
       "25%          1.000000\n",
       "50%          1.000000\n",
       "75%          2.000000\n",
       "max       5345.000000\n",
       "Name: passenger_count, dtype: float64"
      ]
     },
     "execution_count": 83,
     "metadata": {},
     "output_type": "execute_result"
    }
   ],
   "source": [
    "cab_train['passenger_count'].describe()"
   ]
  },
  {
   "cell_type": "code",
   "execution_count": 84,
   "metadata": {},
   "outputs": [
    {
     "name": "stdout",
     "output_type": "stream",
     "text": [
      "(16046, 12)\n"
     ]
    }
   ],
   "source": [
    "#As we can see here the maximum no. of passenger count is 5345 which is not possible. so reducing the passenger count to 6 i.e\n",
    "#maximum in case of SUV\n",
    "cab_train= cab_train.drop(cab_train[cab_train['passenger_count']>6].index, axis=0)\n",
    "print(cab_train.shape)"
   ]
  },
  {
   "cell_type": "code",
   "execution_count": 85,
   "metadata": {},
   "outputs": [
    {
     "data": {
      "text/plain": [
       "count    15991.000000\n",
       "mean         1.643701\n",
       "std          1.267504\n",
       "min          0.000000\n",
       "25%          1.000000\n",
       "50%          1.000000\n",
       "75%          2.000000\n",
       "max          6.000000\n",
       "Name: passenger_count, dtype: float64"
      ]
     },
     "execution_count": 85,
     "metadata": {},
     "output_type": "execute_result"
    }
   ],
   "source": [
    "cab_train['passenger_count'].describe()"
   ]
  },
  {
   "cell_type": "code",
   "execution_count": 86,
   "metadata": {},
   "outputs": [],
   "source": [
    "cab_train= cab_train.drop(cab_train[cab_train['passenger_count']== 0].index, axis=0)"
   ]
  },
  {
   "cell_type": "code",
   "execution_count": 87,
   "metadata": {},
   "outputs": [
    {
     "data": {
      "text/plain": [
       "(15989, 12)"
      ]
     },
     "execution_count": 87,
     "metadata": {},
     "output_type": "execute_result"
    }
   ],
   "source": [
    "cab_train.shape"
   ]
  },
  {
   "cell_type": "code",
   "execution_count": 88,
   "metadata": {},
   "outputs": [],
   "source": [
    "#Removing row whose passenger count is 0.12 , which is not possible\n",
    "cab_train= cab_train.drop(cab_train[cab_train['passenger_count']== 0.12].index, axis=0)"
   ]
  },
  {
   "cell_type": "code",
   "execution_count": 89,
   "metadata": {},
   "outputs": [
    {
     "name": "stdout",
     "output_type": "stream",
     "text": [
      "(15933, 12)\n",
      "0\n"
     ]
    }
   ],
   "source": [
    "#removing passanger_count missing values rows\n",
    "cab_train = cab_train.drop(cab_train[cab_train['passenger_count'].isnull()].index, axis=0)\n",
    "print(cab_train.shape)\n",
    "print(cab_train['passenger_count'].isnull().sum())"
   ]
  },
  {
   "cell_type": "code",
   "execution_count": 90,
   "metadata": {},
   "outputs": [],
   "source": [
    "#Dealing with fare amount, deleting rows whose fare amount is -ve and 0\n",
    "cab_train = cab_train.drop(cab_train[cab_train['fare_amount']< 1].index, axis=0)"
   ]
  },
  {
   "cell_type": "code",
   "execution_count": 91,
   "metadata": {},
   "outputs": [
    {
     "name": "stdout",
     "output_type": "stream",
     "text": [
      "(15928, 12)\n"
     ]
    }
   ],
   "source": [
    "print(cab_train.shape)"
   ]
  },
  {
   "cell_type": "code",
   "execution_count": 92,
   "metadata": {},
   "outputs": [
    {
     "data": {
      "text/plain": [
       "1015     54343.00\n",
       "1072      4343.00\n",
       "607        453.00\n",
       "980        434.00\n",
       "1335       180.00\n",
       "1483       165.00\n",
       "6630       128.83\n",
       "14142      108.00\n",
       "12349      104.67\n",
       "12915       96.00\n",
       "7810        95.00\n",
       "9431        88.00\n",
       "10077       87.30\n",
       "12614       87.00\n",
       "4620        85.50\n",
       "14519       82.50\n",
       "12437       80.75\n",
       "2639        79.00\n",
       "4013        77.70\n",
       "13962       77.15\n",
       "2013        77.00\n",
       "6668        76.80\n",
       "8363        76.00\n",
       "10524       75.80\n",
       "11019       75.33\n",
       "13615       75.00\n",
       "15023       73.30\n",
       "1494        70.00\n",
       "4118        69.70\n",
       "9651        66.30\n",
       "           ...   \n",
       "6007         2.50\n",
       "6765         2.50\n",
       "6703         2.50\n",
       "376          2.50\n",
       "14633        2.50\n",
       "1427         1.14\n",
       "8             NaN\n",
       "26            NaN\n",
       "69            NaN\n",
       "126           NaN\n",
       "168           NaN\n",
       "240           NaN\n",
       "305           NaN\n",
       "350           NaN\n",
       "455           NaN\n",
       "498           NaN\n",
       "667           NaN\n",
       "703           NaN\n",
       "746           NaN\n",
       "836           NaN\n",
       "840           NaN\n",
       "913           NaN\n",
       "1123          NaN\n",
       "1574          NaN\n",
       "1628          NaN\n",
       "1712          NaN\n",
       "2412          NaN\n",
       "2458          NaN\n",
       "8178          NaN\n",
       "8226          NaN\n",
       "Name: fare_amount, Length: 15928, dtype: float64"
      ]
     },
     "execution_count": 92,
     "metadata": {},
     "output_type": "execute_result"
    }
   ],
   "source": [
    "cab_train[\"fare_amount\"].sort_values(ascending=False)"
   ]
  },
  {
   "cell_type": "code",
   "execution_count": 93,
   "metadata": {},
   "outputs": [
    {
     "data": {
      "text/plain": [
       "(15926, 12)"
      ]
     },
     "execution_count": 93,
     "metadata": {},
     "output_type": "execute_result"
    }
   ],
   "source": [
    "#Now we can see that there is a huge difference in 1st 2nd and 3rd position in decending order of fare amount\n",
    "# so we will remove the rows having fare amounting more that 454 as considering them as outliers\n",
    "\n",
    "cab_train = cab_train.drop(cab_train[cab_train[\"fare_amount\"]> 454 ].index, axis=0)\n",
    "cab_train.shape"
   ]
  },
  {
   "cell_type": "code",
   "execution_count": 94,
   "metadata": {},
   "outputs": [
    {
     "name": "stdout",
     "output_type": "stream",
     "text": [
      "(15902, 12)\n",
      "0\n"
     ]
    }
   ],
   "source": [
    "# eliminating rows for which value of \"fare_amount\" is missing\n",
    "cab_train = cab_train.drop(cab_train[cab_train['fare_amount'].isnull()].index, axis=0)\n",
    "print(cab_train.shape)\n",
    "print(cab_train['fare_amount'].isnull().sum())"
   ]
  },
  {
   "cell_type": "code",
   "execution_count": 95,
   "metadata": {},
   "outputs": [
    {
     "data": {
      "text/plain": [
       "count    15902.000000\n",
       "mean        11.376356\n",
       "std         10.814908\n",
       "min          1.140000\n",
       "25%          6.000000\n",
       "50%          8.500000\n",
       "75%         12.500000\n",
       "max        453.000000\n",
       "Name: fare_amount, dtype: float64"
      ]
     },
     "execution_count": 95,
     "metadata": {},
     "output_type": "execute_result"
    }
   ],
   "source": [
    "cab_train['fare_amount'].describe()"
   ]
  },
  {
   "cell_type": "code",
   "execution_count": 96,
   "metadata": {},
   "outputs": [
    {
     "data": {
      "text/html": [
       "<div>\n",
       "<style scoped>\n",
       "    .dataframe tbody tr th:only-of-type {\n",
       "        vertical-align: middle;\n",
       "    }\n",
       "\n",
       "    .dataframe tbody tr th {\n",
       "        vertical-align: top;\n",
       "    }\n",
       "\n",
       "    .dataframe thead th {\n",
       "        text-align: right;\n",
       "    }\n",
       "</style>\n",
       "<table border=\"1\" class=\"dataframe\">\n",
       "  <thead>\n",
       "    <tr style=\"text-align: right;\">\n",
       "      <th></th>\n",
       "      <th>fare_amount</th>\n",
       "      <th>pickup_datetime</th>\n",
       "      <th>pickup_longitude</th>\n",
       "      <th>pickup_latitude</th>\n",
       "      <th>dropoff_longitude</th>\n",
       "      <th>dropoff_latitude</th>\n",
       "      <th>passenger_count</th>\n",
       "      <th>pickup_date</th>\n",
       "      <th>pickup_hour</th>\n",
       "      <th>pickup_month</th>\n",
       "      <th>pickup_weekday</th>\n",
       "      <th>pickup_minute</th>\n",
       "    </tr>\n",
       "  </thead>\n",
       "  <tbody>\n",
       "    <tr>\n",
       "      <th>5686</th>\n",
       "      <td>3.3</td>\n",
       "      <td>2011-07-30 11:15:00</td>\n",
       "      <td>-73.947235</td>\n",
       "      <td>401.083332</td>\n",
       "      <td>-73.951392</td>\n",
       "      <td>40.778927</td>\n",
       "      <td>1.0</td>\n",
       "      <td>30.0</td>\n",
       "      <td>11.0</td>\n",
       "      <td>7.0</td>\n",
       "      <td>5.0</td>\n",
       "      <td>15.0</td>\n",
       "    </tr>\n",
       "  </tbody>\n",
       "</table>\n",
       "</div>"
      ],
      "text/plain": [
       "      fare_amount     pickup_datetime  pickup_longitude  pickup_latitude  \\\n",
       "5686          3.3 2011-07-30 11:15:00        -73.947235       401.083332   \n",
       "\n",
       "      dropoff_longitude  dropoff_latitude  passenger_count  pickup_date  \\\n",
       "5686         -73.951392         40.778927              1.0         30.0   \n",
       "\n",
       "      pickup_hour  pickup_month  pickup_weekday  pickup_minute  \n",
       "5686         11.0           7.0             5.0           15.0  "
      ]
     },
     "execution_count": 96,
     "metadata": {},
     "output_type": "execute_result"
    }
   ],
   "source": [
    "#Lattitude----(-90 to 90)\n",
    "#Longitude----(-180 to 180)\n",
    "\n",
    "# we need to drop the rows having  pickup lattitute and longitute out the range mentioned above\n",
    "\n",
    "#train = train.drop(train[train['pickup_latitude']<-90])\n",
    "cab_train[cab_train['pickup_latitude']<-90]\n",
    "cab_train[cab_train['pickup_latitude']>90]"
   ]
  },
  {
   "cell_type": "code",
   "execution_count": 97,
   "metadata": {},
   "outputs": [],
   "source": [
    "#Hence dropping value of >90 and <-90\n",
    "cab_train = cab_train.drop((cab_train[cab_train['pickup_latitude']<-90]).index, axis=0)\n",
    "cab_train = cab_train.drop((cab_train[cab_train['pickup_latitude']>90]).index, axis=0)"
   ]
  },
  {
   "cell_type": "code",
   "execution_count": 98,
   "metadata": {},
   "outputs": [
    {
     "data": {
      "text/html": [
       "<div>\n",
       "<style scoped>\n",
       "    .dataframe tbody tr th:only-of-type {\n",
       "        vertical-align: middle;\n",
       "    }\n",
       "\n",
       "    .dataframe tbody tr th {\n",
       "        vertical-align: top;\n",
       "    }\n",
       "\n",
       "    .dataframe thead th {\n",
       "        text-align: right;\n",
       "    }\n",
       "</style>\n",
       "<table border=\"1\" class=\"dataframe\">\n",
       "  <thead>\n",
       "    <tr style=\"text-align: right;\">\n",
       "      <th></th>\n",
       "      <th>fare_amount</th>\n",
       "      <th>pickup_datetime</th>\n",
       "      <th>pickup_longitude</th>\n",
       "      <th>pickup_latitude</th>\n",
       "      <th>dropoff_longitude</th>\n",
       "      <th>dropoff_latitude</th>\n",
       "      <th>passenger_count</th>\n",
       "      <th>pickup_date</th>\n",
       "      <th>pickup_hour</th>\n",
       "      <th>pickup_month</th>\n",
       "      <th>pickup_weekday</th>\n",
       "      <th>pickup_minute</th>\n",
       "    </tr>\n",
       "  </thead>\n",
       "  <tbody>\n",
       "  </tbody>\n",
       "</table>\n",
       "</div>"
      ],
      "text/plain": [
       "Empty DataFrame\n",
       "Columns: [fare_amount, pickup_datetime, pickup_longitude, pickup_latitude, dropoff_longitude, dropoff_latitude, passenger_count, pickup_date, pickup_hour, pickup_month, pickup_weekday, pickup_minute]\n",
       "Index: []"
      ]
     },
     "execution_count": 98,
     "metadata": {},
     "output_type": "execute_result"
    }
   ],
   "source": [
    "cab_train[cab_train['pickup_longitude']<-180]\n",
    "cab_train[cab_train['pickup_longitude']>180]"
   ]
  },
  {
   "cell_type": "code",
   "execution_count": 99,
   "metadata": {},
   "outputs": [
    {
     "data": {
      "text/plain": [
       "(15901, 12)"
      ]
     },
     "execution_count": 99,
     "metadata": {},
     "output_type": "execute_result"
    }
   ],
   "source": [
    "cab_train.shape"
   ]
  },
  {
   "cell_type": "code",
   "execution_count": 100,
   "metadata": {},
   "outputs": [
    {
     "data": {
      "text/plain": [
       "fare_amount          0\n",
       "pickup_datetime      0\n",
       "pickup_longitude     0\n",
       "pickup_latitude      0\n",
       "dropoff_longitude    0\n",
       "dropoff_latitude     0\n",
       "passenger_count      0\n",
       "pickup_date          0\n",
       "pickup_hour          0\n",
       "pickup_month         0\n",
       "pickup_weekday       0\n",
       "pickup_minute        0\n",
       "dtype: int64"
      ]
     },
     "execution_count": 100,
     "metadata": {},
     "output_type": "execute_result"
    }
   ],
   "source": [
    "#Checkinh Missinng Value in both train and test dataset\n",
    "cab_train.isnull().sum()\n"
   ]
  },
  {
   "cell_type": "code",
   "execution_count": 101,
   "metadata": {},
   "outputs": [
    {
     "data": {
      "text/plain": [
       "pickup_datetime      0\n",
       "pickup_longitude     0\n",
       "pickup_latitude      0\n",
       "dropoff_longitude    0\n",
       "dropoff_latitude     0\n",
       "passenger_count      0\n",
       "pickup_date          0\n",
       "pickup_hour          0\n",
       "pickup_month         0\n",
       "pickup_weekday       0\n",
       "pickup_minute        0\n",
       "dtype: int64"
      ]
     },
     "execution_count": 101,
     "metadata": {},
     "output_type": "execute_result"
    }
   ],
   "source": [
    "cab_test.isnull().sum()"
   ]
  },
  {
   "cell_type": "code",
   "execution_count": 102,
   "metadata": {},
   "outputs": [],
   "source": [
    "#As we know that we have given pickup longitute and latitude values and same for drop. \n",
    "#So we need to calculate the distance Using the haversine formula and we will create a new variable called distance\n",
    "from math import radians, cos, sin, asin, sqrt\n",
    "\n",
    "def haversine(a):\n",
    "    lon1=a[0]\n",
    "    lat1=a[1]\n",
    "    lon2=a[2]\n",
    "    lat2=a[3]\n",
    "    \"\"\"\n",
    "    Calculate the great circle distance between two points \n",
    "    on the earth (specified in decimal degrees)\n",
    "    \"\"\"\n",
    "    # convert decimal degrees to radians \n",
    "    lon1, lat1, lon2, lat2 = map(radians, [lon1, lat1, lon2, lat2])\n",
    "    \n",
    "    # haversine formula \n",
    "    dlon = lon2 - lon1 \n",
    "    dlat = lat2 - lat1 \n",
    "    a = sin(dlat/2)**2 + cos(lat1) * cos(lat2) * sin(dlon/2)**2\n",
    "    c =  2 * asin(sqrt(a))\n",
    "    # Radius of earth in kilometers is 6371\n",
    "    km = 6371* c\n",
    "    return km"
   ]
  },
  {
   "cell_type": "code",
   "execution_count": 103,
   "metadata": {},
   "outputs": [],
   "source": [
    "#Calculating distane and storing them in new feature named distance in Training dataset\n",
    "cab_train['distance'] = cab_train[['pickup_longitude','pickup_latitude','dropoff_longitude','dropoff_latitude']].apply(haversine,axis=1)"
   ]
  },
  {
   "cell_type": "code",
   "execution_count": 104,
   "metadata": {},
   "outputs": [],
   "source": [
    "#Calculating distane and storing them in new feature named distance in Test dataset\n",
    "cab_test['distance'] = cab_test[['pickup_longitude','pickup_latitude','dropoff_longitude','dropoff_latitude']].apply(haversine,axis=1)"
   ]
  },
  {
   "cell_type": "code",
   "execution_count": 105,
   "metadata": {},
   "outputs": [
    {
     "data": {
      "text/html": [
       "<div>\n",
       "<style scoped>\n",
       "    .dataframe tbody tr th:only-of-type {\n",
       "        vertical-align: middle;\n",
       "    }\n",
       "\n",
       "    .dataframe tbody tr th {\n",
       "        vertical-align: top;\n",
       "    }\n",
       "\n",
       "    .dataframe thead th {\n",
       "        text-align: right;\n",
       "    }\n",
       "</style>\n",
       "<table border=\"1\" class=\"dataframe\">\n",
       "  <thead>\n",
       "    <tr style=\"text-align: right;\">\n",
       "      <th></th>\n",
       "      <th>fare_amount</th>\n",
       "      <th>pickup_datetime</th>\n",
       "      <th>pickup_longitude</th>\n",
       "      <th>pickup_latitude</th>\n",
       "      <th>dropoff_longitude</th>\n",
       "      <th>dropoff_latitude</th>\n",
       "      <th>passenger_count</th>\n",
       "      <th>pickup_date</th>\n",
       "      <th>pickup_hour</th>\n",
       "      <th>pickup_month</th>\n",
       "      <th>pickup_weekday</th>\n",
       "      <th>pickup_minute</th>\n",
       "      <th>distance</th>\n",
       "    </tr>\n",
       "  </thead>\n",
       "  <tbody>\n",
       "    <tr>\n",
       "      <th>0</th>\n",
       "      <td>4.5</td>\n",
       "      <td>2009-06-15 17:26:21</td>\n",
       "      <td>-73.844311</td>\n",
       "      <td>40.721319</td>\n",
       "      <td>-73.841610</td>\n",
       "      <td>40.712278</td>\n",
       "      <td>1.0</td>\n",
       "      <td>15.0</td>\n",
       "      <td>17.0</td>\n",
       "      <td>6.0</td>\n",
       "      <td>0.0</td>\n",
       "      <td>26.0</td>\n",
       "      <td>1.030764</td>\n",
       "    </tr>\n",
       "    <tr>\n",
       "      <th>1</th>\n",
       "      <td>16.9</td>\n",
       "      <td>2010-01-05 16:52:16</td>\n",
       "      <td>-74.016048</td>\n",
       "      <td>40.711303</td>\n",
       "      <td>-73.979268</td>\n",
       "      <td>40.782004</td>\n",
       "      <td>1.0</td>\n",
       "      <td>5.0</td>\n",
       "      <td>16.0</td>\n",
       "      <td>1.0</td>\n",
       "      <td>1.0</td>\n",
       "      <td>52.0</td>\n",
       "      <td>8.450134</td>\n",
       "    </tr>\n",
       "    <tr>\n",
       "      <th>2</th>\n",
       "      <td>5.7</td>\n",
       "      <td>2011-08-18 00:35:00</td>\n",
       "      <td>-73.982738</td>\n",
       "      <td>40.761270</td>\n",
       "      <td>-73.991242</td>\n",
       "      <td>40.750562</td>\n",
       "      <td>2.0</td>\n",
       "      <td>18.0</td>\n",
       "      <td>0.0</td>\n",
       "      <td>8.0</td>\n",
       "      <td>3.0</td>\n",
       "      <td>35.0</td>\n",
       "      <td>1.389525</td>\n",
       "    </tr>\n",
       "    <tr>\n",
       "      <th>3</th>\n",
       "      <td>7.7</td>\n",
       "      <td>2012-04-21 04:30:42</td>\n",
       "      <td>-73.987130</td>\n",
       "      <td>40.733143</td>\n",
       "      <td>-73.991567</td>\n",
       "      <td>40.758092</td>\n",
       "      <td>1.0</td>\n",
       "      <td>21.0</td>\n",
       "      <td>4.0</td>\n",
       "      <td>4.0</td>\n",
       "      <td>5.0</td>\n",
       "      <td>30.0</td>\n",
       "      <td>2.799270</td>\n",
       "    </tr>\n",
       "    <tr>\n",
       "      <th>4</th>\n",
       "      <td>5.3</td>\n",
       "      <td>2010-03-09 07:51:00</td>\n",
       "      <td>-73.968095</td>\n",
       "      <td>40.768008</td>\n",
       "      <td>-73.956655</td>\n",
       "      <td>40.783762</td>\n",
       "      <td>1.0</td>\n",
       "      <td>9.0</td>\n",
       "      <td>7.0</td>\n",
       "      <td>3.0</td>\n",
       "      <td>1.0</td>\n",
       "      <td>51.0</td>\n",
       "      <td>1.999157</td>\n",
       "    </tr>\n",
       "  </tbody>\n",
       "</table>\n",
       "</div>"
      ],
      "text/plain": [
       "   fare_amount     pickup_datetime  pickup_longitude  pickup_latitude  \\\n",
       "0          4.5 2009-06-15 17:26:21        -73.844311        40.721319   \n",
       "1         16.9 2010-01-05 16:52:16        -74.016048        40.711303   \n",
       "2          5.7 2011-08-18 00:35:00        -73.982738        40.761270   \n",
       "3          7.7 2012-04-21 04:30:42        -73.987130        40.733143   \n",
       "4          5.3 2010-03-09 07:51:00        -73.968095        40.768008   \n",
       "\n",
       "   dropoff_longitude  dropoff_latitude  passenger_count  pickup_date  \\\n",
       "0         -73.841610         40.712278              1.0         15.0   \n",
       "1         -73.979268         40.782004              1.0          5.0   \n",
       "2         -73.991242         40.750562              2.0         18.0   \n",
       "3         -73.991567         40.758092              1.0         21.0   \n",
       "4         -73.956655         40.783762              1.0          9.0   \n",
       "\n",
       "   pickup_hour  pickup_month  pickup_weekday  pickup_minute  distance  \n",
       "0         17.0           6.0             0.0           26.0  1.030764  \n",
       "1         16.0           1.0             1.0           52.0  8.450134  \n",
       "2          0.0           8.0             3.0           35.0  1.389525  \n",
       "3          4.0           4.0             5.0           30.0  2.799270  \n",
       "4          7.0           3.0             1.0           51.0  1.999157  "
      ]
     },
     "execution_count": 105,
     "metadata": {},
     "output_type": "execute_result"
    }
   ],
   "source": [
    "cab_train.head()"
   ]
  },
  {
   "cell_type": "code",
   "execution_count": 106,
   "metadata": {},
   "outputs": [
    {
     "data": {
      "text/html": [
       "<div>\n",
       "<style scoped>\n",
       "    .dataframe tbody tr th:only-of-type {\n",
       "        vertical-align: middle;\n",
       "    }\n",
       "\n",
       "    .dataframe tbody tr th {\n",
       "        vertical-align: top;\n",
       "    }\n",
       "\n",
       "    .dataframe thead th {\n",
       "        text-align: right;\n",
       "    }\n",
       "</style>\n",
       "<table border=\"1\" class=\"dataframe\">\n",
       "  <thead>\n",
       "    <tr style=\"text-align: right;\">\n",
       "      <th></th>\n",
       "      <th>pickup_datetime</th>\n",
       "      <th>pickup_longitude</th>\n",
       "      <th>pickup_latitude</th>\n",
       "      <th>dropoff_longitude</th>\n",
       "      <th>dropoff_latitude</th>\n",
       "      <th>passenger_count</th>\n",
       "      <th>pickup_date</th>\n",
       "      <th>pickup_hour</th>\n",
       "      <th>pickup_month</th>\n",
       "      <th>pickup_weekday</th>\n",
       "      <th>pickup_minute</th>\n",
       "      <th>distance</th>\n",
       "    </tr>\n",
       "  </thead>\n",
       "  <tbody>\n",
       "    <tr>\n",
       "      <th>0</th>\n",
       "      <td>2015-01-27 13:08:24</td>\n",
       "      <td>-73.973320</td>\n",
       "      <td>40.763805</td>\n",
       "      <td>-73.981430</td>\n",
       "      <td>40.743835</td>\n",
       "      <td>1</td>\n",
       "      <td>27</td>\n",
       "      <td>13</td>\n",
       "      <td>1</td>\n",
       "      <td>1</td>\n",
       "      <td>8</td>\n",
       "      <td>2.323259</td>\n",
       "    </tr>\n",
       "    <tr>\n",
       "      <th>1</th>\n",
       "      <td>2015-01-27 13:08:24</td>\n",
       "      <td>-73.986862</td>\n",
       "      <td>40.719383</td>\n",
       "      <td>-73.998886</td>\n",
       "      <td>40.739201</td>\n",
       "      <td>1</td>\n",
       "      <td>27</td>\n",
       "      <td>13</td>\n",
       "      <td>1</td>\n",
       "      <td>1</td>\n",
       "      <td>8</td>\n",
       "      <td>2.425353</td>\n",
       "    </tr>\n",
       "    <tr>\n",
       "      <th>2</th>\n",
       "      <td>2011-10-08 11:53:44</td>\n",
       "      <td>-73.982524</td>\n",
       "      <td>40.751260</td>\n",
       "      <td>-73.979654</td>\n",
       "      <td>40.746139</td>\n",
       "      <td>1</td>\n",
       "      <td>8</td>\n",
       "      <td>11</td>\n",
       "      <td>10</td>\n",
       "      <td>5</td>\n",
       "      <td>53</td>\n",
       "      <td>0.618628</td>\n",
       "    </tr>\n",
       "    <tr>\n",
       "      <th>3</th>\n",
       "      <td>2012-12-01 21:12:12</td>\n",
       "      <td>-73.981160</td>\n",
       "      <td>40.767807</td>\n",
       "      <td>-73.990448</td>\n",
       "      <td>40.751635</td>\n",
       "      <td>1</td>\n",
       "      <td>1</td>\n",
       "      <td>21</td>\n",
       "      <td>12</td>\n",
       "      <td>5</td>\n",
       "      <td>12</td>\n",
       "      <td>1.961033</td>\n",
       "    </tr>\n",
       "    <tr>\n",
       "      <th>4</th>\n",
       "      <td>2012-12-01 21:12:12</td>\n",
       "      <td>-73.966046</td>\n",
       "      <td>40.789775</td>\n",
       "      <td>-73.988565</td>\n",
       "      <td>40.744427</td>\n",
       "      <td>1</td>\n",
       "      <td>1</td>\n",
       "      <td>21</td>\n",
       "      <td>12</td>\n",
       "      <td>5</td>\n",
       "      <td>12</td>\n",
       "      <td>5.387301</td>\n",
       "    </tr>\n",
       "  </tbody>\n",
       "</table>\n",
       "</div>"
      ],
      "text/plain": [
       "      pickup_datetime  pickup_longitude  pickup_latitude  dropoff_longitude  \\\n",
       "0 2015-01-27 13:08:24        -73.973320        40.763805         -73.981430   \n",
       "1 2015-01-27 13:08:24        -73.986862        40.719383         -73.998886   \n",
       "2 2011-10-08 11:53:44        -73.982524        40.751260         -73.979654   \n",
       "3 2012-12-01 21:12:12        -73.981160        40.767807         -73.990448   \n",
       "4 2012-12-01 21:12:12        -73.966046        40.789775         -73.988565   \n",
       "\n",
       "   dropoff_latitude  passenger_count  pickup_date  pickup_hour  pickup_month  \\\n",
       "0         40.743835                1           27           13             1   \n",
       "1         40.739201                1           27           13             1   \n",
       "2         40.746139                1            8           11            10   \n",
       "3         40.751635                1            1           21            12   \n",
       "4         40.744427                1            1           21            12   \n",
       "\n",
       "   pickup_weekday  pickup_minute  distance  \n",
       "0               1              8  2.323259  \n",
       "1               1              8  2.425353  \n",
       "2               5             53  0.618628  \n",
       "3               5             12  1.961033  \n",
       "4               5             12  5.387301  "
      ]
     },
     "execution_count": 106,
     "metadata": {},
     "output_type": "execute_result"
    }
   ],
   "source": [
    "cab_test.head()"
   ]
  },
  {
   "cell_type": "code",
   "execution_count": 107,
   "metadata": {},
   "outputs": [
    {
     "data": {
      "text/plain": [
       "9147     8667.542104\n",
       "8647     8667.497512\n",
       "2397     8667.454421\n",
       "472      8667.304968\n",
       "11653    8666.701504\n",
       "13340    8666.613646\n",
       "10215    8666.584706\n",
       "4597     8666.566030\n",
       "10458    8665.976222\n",
       "10672    8665.702390\n",
       "10488    8665.555634\n",
       "1260     8665.268588\n",
       "4278     8665.223767\n",
       "6188     8664.191488\n",
       "12983    8664.131808\n",
       "6302     8663.039123\n",
       "12705    8661.362152\n",
       "14197    8657.136619\n",
       "15783    8656.714168\n",
       "15749    6028.926779\n",
       "2280     6026.494216\n",
       "5864     5420.988959\n",
       "7014     4447.086698\n",
       "10710     129.950482\n",
       "14536     129.560455\n",
       "11619     127.509261\n",
       "12228     123.561157\n",
       "5663      101.094619\n",
       "1684       99.771579\n",
       "3075       97.985088\n",
       "            ...     \n",
       "7684        0.000000\n",
       "4298        0.000000\n",
       "13143       0.000000\n",
       "3128        0.000000\n",
       "8645        0.000000\n",
       "8377        0.000000\n",
       "4240        0.000000\n",
       "2447        0.000000\n",
       "4367        0.000000\n",
       "11565       0.000000\n",
       "13081       0.000000\n",
       "13062       0.000000\n",
       "4454        0.000000\n",
       "13013       0.000000\n",
       "13015       0.000000\n",
       "808         0.000000\n",
       "6462        0.000000\n",
       "799         0.000000\n",
       "4430        0.000000\n",
       "10783       0.000000\n",
       "13037       0.000000\n",
       "14485       0.000000\n",
       "15524       0.000000\n",
       "9342        0.000000\n",
       "13045       0.000000\n",
       "13050       0.000000\n",
       "11593       0.000000\n",
       "2346        0.000000\n",
       "8331        0.000000\n",
       "1637        0.000000\n",
       "Name: distance, Length: 15901, dtype: float64"
      ]
     },
     "execution_count": 107,
     "metadata": {},
     "output_type": "execute_result"
    }
   ],
   "source": [
    "##finding decending order of fare to get to know whether the outliers are presented or not\n",
    "cab_train['distance'].sort_values(ascending=False)"
   ]
  },
  {
   "cell_type": "code",
   "execution_count": 108,
   "metadata": {},
   "outputs": [
    {
     "data": {
      "text/plain": [
       "(15447, 13)"
      ]
     },
     "execution_count": 108,
     "metadata": {},
     "output_type": "execute_result"
    }
   ],
   "source": [
    "#As we can see that top 23 values in the distance variables are very high It means more than 8000 Kms distance they have \n",
    "#travelled Also just after 23rd value from the top, the distance goes down to 127, which means these values are showing some\n",
    "#outliers We need to remove these values\n",
    "\n",
    "###we will remove the rows whose distance value is zero\n",
    "\n",
    "cab_train = cab_train.drop(cab_train[cab_train['distance']== 0].index, axis=0)\n",
    "cab_train.shape"
   ]
  },
  {
   "cell_type": "code",
   "execution_count": 109,
   "metadata": {},
   "outputs": [
    {
     "data": {
      "text/plain": [
       "(15424, 13)"
      ]
     },
     "execution_count": 109,
     "metadata": {},
     "output_type": "execute_result"
    }
   ],
   "source": [
    "#We will remove the rows whose distance values is very high which is more than 129kms\n",
    "cab_train = cab_train.drop(cab_train[cab_train['distance'] > 130 ].index, axis=0)\n",
    "cab_train.shape"
   ]
  },
  {
   "cell_type": "code",
   "execution_count": 110,
   "metadata": {},
   "outputs": [
    {
     "data": {
      "text/plain": [
       "0"
      ]
     },
     "execution_count": 110,
     "metadata": {},
     "output_type": "execute_result"
    }
   ],
   "source": [
    "cab_train['distance'].isnull().sum()"
   ]
  },
  {
   "cell_type": "code",
   "execution_count": 111,
   "metadata": {},
   "outputs": [],
   "source": [
    "#Droping feature related to pickup and dropoff\n",
    "drop = ['pickup_datetime', 'pickup_longitude', 'pickup_latitude','dropoff_longitude', 'dropoff_latitude']\n",
    "cab_train = cab_train.drop(drop, axis = 1)"
   ]
  },
  {
   "cell_type": "code",
   "execution_count": 112,
   "metadata": {},
   "outputs": [
    {
     "data": {
      "text/html": [
       "<div>\n",
       "<style scoped>\n",
       "    .dataframe tbody tr th:only-of-type {\n",
       "        vertical-align: middle;\n",
       "    }\n",
       "\n",
       "    .dataframe tbody tr th {\n",
       "        vertical-align: top;\n",
       "    }\n",
       "\n",
       "    .dataframe thead th {\n",
       "        text-align: right;\n",
       "    }\n",
       "</style>\n",
       "<table border=\"1\" class=\"dataframe\">\n",
       "  <thead>\n",
       "    <tr style=\"text-align: right;\">\n",
       "      <th></th>\n",
       "      <th>fare_amount</th>\n",
       "      <th>passenger_count</th>\n",
       "      <th>pickup_date</th>\n",
       "      <th>pickup_hour</th>\n",
       "      <th>pickup_month</th>\n",
       "      <th>pickup_weekday</th>\n",
       "      <th>pickup_minute</th>\n",
       "      <th>distance</th>\n",
       "    </tr>\n",
       "  </thead>\n",
       "  <tbody>\n",
       "    <tr>\n",
       "      <th>0</th>\n",
       "      <td>4.5</td>\n",
       "      <td>1.0</td>\n",
       "      <td>15.0</td>\n",
       "      <td>17.0</td>\n",
       "      <td>6.0</td>\n",
       "      <td>0.0</td>\n",
       "      <td>26.0</td>\n",
       "      <td>1.030764</td>\n",
       "    </tr>\n",
       "    <tr>\n",
       "      <th>1</th>\n",
       "      <td>16.9</td>\n",
       "      <td>1.0</td>\n",
       "      <td>5.0</td>\n",
       "      <td>16.0</td>\n",
       "      <td>1.0</td>\n",
       "      <td>1.0</td>\n",
       "      <td>52.0</td>\n",
       "      <td>8.450134</td>\n",
       "    </tr>\n",
       "    <tr>\n",
       "      <th>2</th>\n",
       "      <td>5.7</td>\n",
       "      <td>2.0</td>\n",
       "      <td>18.0</td>\n",
       "      <td>0.0</td>\n",
       "      <td>8.0</td>\n",
       "      <td>3.0</td>\n",
       "      <td>35.0</td>\n",
       "      <td>1.389525</td>\n",
       "    </tr>\n",
       "    <tr>\n",
       "      <th>3</th>\n",
       "      <td>7.7</td>\n",
       "      <td>1.0</td>\n",
       "      <td>21.0</td>\n",
       "      <td>4.0</td>\n",
       "      <td>4.0</td>\n",
       "      <td>5.0</td>\n",
       "      <td>30.0</td>\n",
       "      <td>2.799270</td>\n",
       "    </tr>\n",
       "    <tr>\n",
       "      <th>4</th>\n",
       "      <td>5.3</td>\n",
       "      <td>1.0</td>\n",
       "      <td>9.0</td>\n",
       "      <td>7.0</td>\n",
       "      <td>3.0</td>\n",
       "      <td>1.0</td>\n",
       "      <td>51.0</td>\n",
       "      <td>1.999157</td>\n",
       "    </tr>\n",
       "  </tbody>\n",
       "</table>\n",
       "</div>"
      ],
      "text/plain": [
       "   fare_amount  passenger_count  pickup_date  pickup_hour  pickup_month  \\\n",
       "0          4.5              1.0         15.0         17.0           6.0   \n",
       "1         16.9              1.0          5.0         16.0           1.0   \n",
       "2          5.7              2.0         18.0          0.0           8.0   \n",
       "3          7.7              1.0         21.0          4.0           4.0   \n",
       "4          5.3              1.0          9.0          7.0           3.0   \n",
       "\n",
       "   pickup_weekday  pickup_minute  distance  \n",
       "0             0.0           26.0  1.030764  \n",
       "1             1.0           52.0  8.450134  \n",
       "2             3.0           35.0  1.389525  \n",
       "3             5.0           30.0  2.799270  \n",
       "4             1.0           51.0  1.999157  "
      ]
     },
     "execution_count": 112,
     "metadata": {},
     "output_type": "execute_result"
    }
   ],
   "source": [
    "cab_train.head()"
   ]
  },
  {
   "cell_type": "code",
   "execution_count": 113,
   "metadata": {},
   "outputs": [
    {
     "data": {
      "text/plain": [
       "fare_amount        float64\n",
       "passenger_count    float64\n",
       "pickup_date        float64\n",
       "pickup_hour        float64\n",
       "pickup_month       float64\n",
       "pickup_weekday     float64\n",
       "pickup_minute      float64\n",
       "distance           float64\n",
       "dtype: object"
      ]
     },
     "execution_count": 113,
     "metadata": {},
     "output_type": "execute_result"
    }
   ],
   "source": [
    "cab_train.dtypes"
   ]
  },
  {
   "cell_type": "code",
   "execution_count": 114,
   "metadata": {},
   "outputs": [],
   "source": [
    "cab_train['passenger_count'] = cab_train['passenger_count'].astype('category')\n",
    "cab_train['pickup_date'] = cab_train['pickup_date'].astype('int64')\n",
    "cab_train['pickup_month'] = cab_train['pickup_month'].astype('int64')\n",
    "cab_train['pickup_weekday'] = cab_train['pickup_weekday'].astype('int64')\n",
    "cab_train['pickup_minute'] = cab_train['pickup_minute'].astype('int64')\n",
    "cab_train['pickup_hour'] = cab_train['pickup_hour'].astype('int64')"
   ]
  },
  {
   "cell_type": "code",
   "execution_count": 115,
   "metadata": {},
   "outputs": [],
   "source": [
    "#dropping features from test data\n",
    "drop_test = ['pickup_datetime', 'pickup_longitude', 'pickup_latitude','dropoff_longitude', 'dropoff_latitude']\n",
    "cab_test = cab_test.drop(drop_test, axis = 1)"
   ]
  },
  {
   "cell_type": "code",
   "execution_count": 116,
   "metadata": {},
   "outputs": [
    {
     "data": {
      "text/html": [
       "<div>\n",
       "<style scoped>\n",
       "    .dataframe tbody tr th:only-of-type {\n",
       "        vertical-align: middle;\n",
       "    }\n",
       "\n",
       "    .dataframe tbody tr th {\n",
       "        vertical-align: top;\n",
       "    }\n",
       "\n",
       "    .dataframe thead th {\n",
       "        text-align: right;\n",
       "    }\n",
       "</style>\n",
       "<table border=\"1\" class=\"dataframe\">\n",
       "  <thead>\n",
       "    <tr style=\"text-align: right;\">\n",
       "      <th></th>\n",
       "      <th>passenger_count</th>\n",
       "      <th>pickup_date</th>\n",
       "      <th>pickup_hour</th>\n",
       "      <th>pickup_month</th>\n",
       "      <th>pickup_weekday</th>\n",
       "      <th>pickup_minute</th>\n",
       "      <th>distance</th>\n",
       "    </tr>\n",
       "  </thead>\n",
       "  <tbody>\n",
       "    <tr>\n",
       "      <th>0</th>\n",
       "      <td>1</td>\n",
       "      <td>27</td>\n",
       "      <td>13</td>\n",
       "      <td>1</td>\n",
       "      <td>1</td>\n",
       "      <td>8</td>\n",
       "      <td>2.323259</td>\n",
       "    </tr>\n",
       "    <tr>\n",
       "      <th>1</th>\n",
       "      <td>1</td>\n",
       "      <td>27</td>\n",
       "      <td>13</td>\n",
       "      <td>1</td>\n",
       "      <td>1</td>\n",
       "      <td>8</td>\n",
       "      <td>2.425353</td>\n",
       "    </tr>\n",
       "    <tr>\n",
       "      <th>2</th>\n",
       "      <td>1</td>\n",
       "      <td>8</td>\n",
       "      <td>11</td>\n",
       "      <td>10</td>\n",
       "      <td>5</td>\n",
       "      <td>53</td>\n",
       "      <td>0.618628</td>\n",
       "    </tr>\n",
       "    <tr>\n",
       "      <th>3</th>\n",
       "      <td>1</td>\n",
       "      <td>1</td>\n",
       "      <td>21</td>\n",
       "      <td>12</td>\n",
       "      <td>5</td>\n",
       "      <td>12</td>\n",
       "      <td>1.961033</td>\n",
       "    </tr>\n",
       "    <tr>\n",
       "      <th>4</th>\n",
       "      <td>1</td>\n",
       "      <td>1</td>\n",
       "      <td>21</td>\n",
       "      <td>12</td>\n",
       "      <td>5</td>\n",
       "      <td>12</td>\n",
       "      <td>5.387301</td>\n",
       "    </tr>\n",
       "  </tbody>\n",
       "</table>\n",
       "</div>"
      ],
      "text/plain": [
       "   passenger_count  pickup_date  pickup_hour  pickup_month  pickup_weekday  \\\n",
       "0                1           27           13             1               1   \n",
       "1                1           27           13             1               1   \n",
       "2                1            8           11            10               5   \n",
       "3                1            1           21            12               5   \n",
       "4                1            1           21            12               5   \n",
       "\n",
       "   pickup_minute  distance  \n",
       "0              8  2.323259  \n",
       "1              8  2.425353  \n",
       "2             53  0.618628  \n",
       "3             12  1.961033  \n",
       "4             12  5.387301  "
      ]
     },
     "execution_count": 116,
     "metadata": {},
     "output_type": "execute_result"
    }
   ],
   "source": [
    "cab_test.head()"
   ]
  },
  {
   "cell_type": "code",
   "execution_count": 117,
   "metadata": {},
   "outputs": [
    {
     "data": {
      "text/plain": [
       "passenger_count      int64\n",
       "pickup_date          int64\n",
       "pickup_hour          int64\n",
       "pickup_month         int64\n",
       "pickup_weekday       int64\n",
       "pickup_minute        int64\n",
       "distance           float64\n",
       "dtype: object"
      ]
     },
     "execution_count": 117,
     "metadata": {},
     "output_type": "execute_result"
    }
   ],
   "source": [
    "cab_test.dtypes"
   ]
  },
  {
   "cell_type": "markdown",
   "metadata": {},
   "source": [
    "<h3> Correlational Analysis </h3>"
   ]
  },
  {
   "cell_type": "code",
   "execution_count": 118,
   "metadata": {},
   "outputs": [],
   "source": [
    "################## Feature Selection #######################\n",
    "#Correlational Analysis\n",
    "#Correlational Plot\n",
    "cnames=['pickup_date','pickup_hour','pickup_month','pickup_minute','distance_travelled','pickup_weekday','fare_amount']\n",
    "cab_data_corr= cab_train.loc[:, cnames]"
   ]
  },
  {
   "cell_type": "code",
   "execution_count": 119,
   "metadata": {},
   "outputs": [
    {
     "data": {
      "text/plain": [
       "<matplotlib.axes._subplots.AxesSubplot at 0x273da2bd438>"
      ]
     },
     "execution_count": 119,
     "metadata": {},
     "output_type": "execute_result"
    },
    {
     "data": {
      "image/png": "[encoded data removed]",
      "text/plain": [
       "<Figure size 504x360 with 2 Axes>"
      ]
     },
     "metadata": {
      "needs_background": "light"
     },
     "output_type": "display_data"
    }
   ],
   "source": [
    "#Setting the height and width of the plot\n",
    "f, ax= plt.subplots(figsize=(7,5))\n",
    "#generating correlation matrix\n",
    "corr= cab_data_corr.corr()\n",
    "#Ploting using seaborn library\n",
    "sns.heatmap(corr, mask= np.zeros_like(corr, dtype= np.bool), cmap= sns.diverging_palette(200, 10, as_cmap= True),\n",
    "           square= True, ax=ax)"
   ]
  },
  {
   "cell_type": "markdown",
   "metadata": {},
   "source": [
    "<h3> Feature Scaling </h3>"
   ]
  },
  {
   "cell_type": "code",
   "execution_count": 120,
   "metadata": {},
   "outputs": [
    {
     "name": "stdout",
     "output_type": "stream",
     "text": [
      "fare_amount\n"
     ]
    },
    {
     "name": "stderr",
     "output_type": "stream",
     "text": [
      "C:\\Users\\abhij\\Anaconda3\\lib\\site-packages\\scipy\\stats\\stats.py:1713: FutureWarning: Using a non-tuple sequence for multidimensional indexing is deprecated; use `arr[tuple(seq)]` instead of `arr[seq]`. In the future this will be interpreted as an array index, `arr[np.array(seq)]`, which will result either in an error or a different result.\n",
      "  return np.add.reduce(sorted[indexer] * weights, axis=axis) / sumval\n"
     ]
    },
    {
     "data": {
      "image/png": "[encoded data removed]",
      "text/plain": [
       "<Figure size 432x288 with 1 Axes>"
      ]
     },
     "metadata": {
      "needs_background": "light"
     },
     "output_type": "display_data"
    },
    {
     "name": "stdout",
     "output_type": "stream",
     "text": [
      "distance\n"
     ]
    },
    {
     "data": {
      "image/png": "[encoded data removed]",
      "text/plain": [
       "<Figure size 432x288 with 1 Axes>"
      ]
     },
     "metadata": {
      "needs_background": "light"
     },
     "output_type": "display_data"
    }
   ],
   "source": [
    "#Checking the distribution of fare_amount and distance in training dataset-\n",
    "\n",
    "for i in ['fare_amount', 'distance']:\n",
    "    print(i)\n",
    "    sns.distplot(cab_train[i],bins='auto',color='green')\n",
    "    plt.title(\"Distribution for Variable \"+i)\n",
    "    plt.ylabel(\"Density\")\n",
    "    plt.show()"
   ]
  },
  {
   "cell_type": "code",
   "execution_count": 121,
   "metadata": {},
   "outputs": [],
   "source": [
    "# We can clearly see that fare_amount and distance both are right skewed apply log transform to reduce the skewness in train dataset\n",
    "cab_train['fare_amount'] = np.log1p(cab_train['fare_amount'])\n",
    "\n",
    "cab_train['distance'] = np.log1p(cab_train['distance'])"
   ]
  },
  {
   "cell_type": "code",
   "execution_count": 122,
   "metadata": {},
   "outputs": [
    {
     "name": "stdout",
     "output_type": "stream",
     "text": [
      "fare_amount\n"
     ]
    },
    {
     "data": {
      "image/png": "[encoded data removed]",
      "text/plain": [
       "<Figure size 432x288 with 1 Axes>"
      ]
     },
     "metadata": {
      "needs_background": "light"
     },
     "output_type": "display_data"
    },
    {
     "name": "stdout",
     "output_type": "stream",
     "text": [
      "distance\n"
     ]
    },
    {
     "data": {
      "image/png": "[encoded data removed]",
      "text/plain": [
       "<Figure size 432x288 with 1 Axes>"
      ]
     },
     "metadata": {
      "needs_background": "light"
     },
     "output_type": "display_data"
    }
   ],
   "source": [
    "#Checking the distribution of fare_amount and distance in training dataset after log transform\n",
    "\n",
    "for i in ['fare_amount', 'distance']:\n",
    "    print(i)\n",
    "    sns.distplot(cab_train[i],bins='auto',color='green')\n",
    "    plt.title(\"Distribution for Variable \"+i)\n",
    "    plt.ylabel(\"Density\")\n",
    "    plt.show()"
   ]
  },
  {
   "cell_type": "code",
   "execution_count": 123,
   "metadata": {},
   "outputs": [
    {
     "data": {
      "image/png": "[encoded data removed]",
      "text/plain": [
       "<Figure size 432x288 with 1 Axes>"
      ]
     },
     "metadata": {
      "needs_background": "light"
     },
     "output_type": "display_data"
    }
   ],
   "source": [
    "#Checking the distribution of distance in training datase\n",
    "sns.distplot(cab_test['distance'],bins='auto',color='green')\n",
    "plt.title(\"Distribution for Variable  Distance\")\n",
    "plt.ylabel(\"Density\")\n",
    "plt.show()"
   ]
  },
  {
   "cell_type": "code",
   "execution_count": 124,
   "metadata": {},
   "outputs": [],
   "source": [
    "#We can clearly see that distance is right skewed apply log transform to reduce the skewness in test dataset\n",
    "cab_test['distance'] = np.log1p(cab_test['distance'])"
   ]
  },
  {
   "cell_type": "code",
   "execution_count": 125,
   "metadata": {},
   "outputs": [
    {
     "data": {
      "image/png": "[encoded data removed]",
      "text/plain": [
       "<Figure size 432x288 with 1 Axes>"
      ]
     },
     "metadata": {
      "needs_background": "light"
     },
     "output_type": "display_data"
    }
   ],
   "source": [
    "#Checking the distribution of distance in test dataset after log transform\n",
    "\n",
    "sns.distplot(cab_test['distance'],bins='auto',color='green')\n",
    "plt.title(\"Distribution for Variable  Distance\")\n",
    "plt.ylabel(\"Density\")\n",
    "plt.show()"
   ]
  },
  {
   "cell_type": "code",
   "execution_count": 126,
   "metadata": {},
   "outputs": [],
   "source": [
    "#Mape Function\n",
    "def MAPE(y, yhat): \n",
    "    mape = np.mean(np.abs((y - yhat) / y))*100\n",
    "    print(\"MAPE:\", mape)\n",
    "\n",
    "#RMSE Function\n",
    "def RMSE(y_test,yhat):\n",
    "    mse = np.mean((y_test-yhat)**2)\n",
    "    print(\"Mean Square : \",mse)\n",
    "    rmse=np.sqrt(mse)\n",
    "    print(\"Root Mean Square : \",rmse)"
   ]
  },
  {
   "cell_type": "code",
   "execution_count": 157,
   "metadata": {},
   "outputs": [],
   "source": [
    "# Splitting the data into training set and test set\n",
    "from sklearn.model_selection import train_test_split\n",
    "train, test = train_test_split(cab_train, test_size=0.2)"
   ]
  },
  {
   "cell_type": "markdown",
   "metadata": {},
   "source": [
    "<h3> Linear Regression</h3>"
   ]
  },
  {
   "cell_type": "code",
   "execution_count": 158,
   "metadata": {},
   "outputs": [],
   "source": [
    "####################### LINEAR REGRESSION ##################\n",
    "from sklearn.linear_model import LinearRegression\n",
    "regressor= LinearRegression()\n",
    "regressor.fit(train.iloc[:, 1:8], train.iloc[:, 0])\n",
    "predictions_LR= regressor.predict(test.iloc[:, 1:8])\n"
   ]
  },
  {
   "cell_type": "markdown",
   "metadata": {},
   "source": [
    "<h3> Decision Tree </h3>"
   ]
  },
  {
   "cell_type": "code",
   "execution_count": 162,
   "metadata": {},
   "outputs": [],
   "source": [
    "########################### Decision Tree ############\n",
    "from sklearn.tree import DecisionTreeRegressor\n",
    "regressor_DT = DecisionTreeRegressor(max_depth=10).fit(train.iloc[:,1:8], train.iloc[:,0])\n",
    "predictions_DT = regressor_DT.predict(test.iloc[:,1:8])"
   ]
  },
  {
   "cell_type": "markdown",
   "metadata": {},
   "source": [
    "<h3> Random Forest </h3>"
   ]
  },
  {
   "cell_type": "code",
   "execution_count": 161,
   "metadata": {},
   "outputs": [],
   "source": [
    "####################### Random Forest #########################\n",
    "from sklearn.ensemble import RandomForestRegressor\n",
    "regressor_RF = RandomForestRegressor(n_estimators = 200, max_depth= 7).fit(train.iloc[:,1:8], train.iloc[:,0])\n",
    "RF_Predictions = regressor_RF.predict(test.iloc[:,1:8])"
   ]
  },
  {
   "cell_type": "markdown",
   "metadata": {},
   "source": [
    "<h3> Model Evaluation </h3>"
   ]
  },
  {
   "cell_type": "code",
   "execution_count": 163,
   "metadata": {},
   "outputs": [
    {
     "name": "stdout",
     "output_type": "stream",
     "text": [
      "MAPE: 8.06334883804959\n",
      "Mean Square :  0.08547478254297824\n",
      "Root Mean Square :  0.2923607062226014\n"
     ]
    }
   ],
   "source": [
    "#Mape for Linear Regression\n",
    "MAPE(test.iloc[:,0],predictions_LR)\n",
    "RMSE(test.iloc[:,0],predictions_LR)"
   ]
  },
  {
   "cell_type": "code",
   "execution_count": 165,
   "metadata": {},
   "outputs": [
    {
     "data": {
      "text/plain": [
       "0.7196094035065019"
      ]
     },
     "execution_count": 165,
     "metadata": {},
     "output_type": "execute_result"
    }
   ],
   "source": [
    "#calculate R^2 for Linear Regression Model\n",
    "r2_score(test.iloc[:,0], predictions_LR)"
   ]
  },
  {
   "cell_type": "code",
   "execution_count": 164,
   "metadata": {},
   "outputs": [
    {
     "name": "stdout",
     "output_type": "stream",
     "text": [
      "MAPE: 8.480695528000217\n",
      "Mean Square :  0.08877278102570765\n",
      "Root Mean Square :  0.29794761456623153\n"
     ]
    }
   ],
   "source": [
    "#Mape for Decision Tree\n",
    "MAPE(test.iloc[:,0],predictions_DT)\n",
    "RMSE(test.iloc[:,0],predictions_DT)"
   ]
  },
  {
   "cell_type": "code",
   "execution_count": 166,
   "metadata": {},
   "outputs": [
    {
     "data": {
      "text/plain": [
       "0.7087906832442755"
      ]
     },
     "execution_count": 166,
     "metadata": {},
     "output_type": "execute_result"
    }
   ],
   "source": [
    "#calculate R^2 for Decision Tree Model\n",
    "r2_score(test.iloc[:,0], predictions_DT)"
   ]
  },
  {
   "cell_type": "code",
   "execution_count": 167,
   "metadata": {},
   "outputs": [
    {
     "name": "stdout",
     "output_type": "stream",
     "text": [
      "MAPE: 7.823785670752574\n",
      "Mean Square :  0.07214469237686673\n",
      "Root Mean Square :  0.2685976403039809\n"
     ]
    }
   ],
   "source": [
    "#Mape for Random Forest\n",
    "MAPE(test.iloc[:,0],RF_Predictions)\n",
    "RMSE(test.iloc[:,0],RF_Predictions)"
   ]
  },
  {
   "cell_type": "code",
   "execution_count": 168,
   "metadata": {},
   "outputs": [
    {
     "data": {
      "text/plain": [
       "0.7633372940233193"
      ]
     },
     "execution_count": 168,
     "metadata": {},
     "output_type": "execute_result"
    }
   ],
   "source": [
    "#calculate R^2 for Random Forest Model\n",
    "r2_score(test.iloc[:,0], RF_Predictions)"
   ]
  },
  {
   "cell_type": "markdown",
   "metadata": {},
   "source": [
    "<h3> Applying Grid Search to Random Forest for hyper parameter tuning </h3>"
   ]
  },
  {
   "cell_type": "code",
   "execution_count": 169,
   "metadata": {},
   "outputs": [],
   "source": [
    "# As we know the given problem is a regression so we are considering two performance metrics:-\n",
    "#1) MAPE (2) RMSE\n",
    "# Suppose Predicted cab fare_amount is 100 and the actual is 102, then here we will not see the difference\n",
    "#in error i.e 2 but we will calculate the percentage error which is 2%. Again, if the predicted fare_amount\n",
    "# is 10 instead of 12, error difference is again 2 but the percentage error is 20% .So we will be considering\n",
    "# MAPE as our error metrics\n",
    "#As we can see clearly see the value of both the Error Metrics i.e MAPE and RMSE both are minimum for Random Forest model\n",
    "# and value of R-square is also higher for Random Forest. So Choosing Random Forest as our Final Model and \n",
    "#applying grid search to find the best value of hyper-parameters\n",
    "from sklearn.model_selection import GridSearchCV\n",
    "parameters= [{'max_depth': [2,5,7,8,10], 'n_estimators' : [10, 100, 200, 300, 400, 500]}]\n",
    "\n",
    "grid_search= GridSearchCV(estimator = regressor_RF, param_grid= parameters, cv= 5, n_jobs= -1)\n",
    "grid_search= grid_search.fit(train.iloc[:,1:8], train.iloc[:, 0])"
   ]
  },
  {
   "cell_type": "code",
   "execution_count": 170,
   "metadata": {},
   "outputs": [],
   "source": [
    "#Calculating the best value of the provided hyper-parameter\n",
    "best_param= grid_search.best_params_"
   ]
  },
  {
   "cell_type": "code",
   "execution_count": 171,
   "metadata": {},
   "outputs": [
    {
     "data": {
      "text/plain": [
       "{'max_depth': 7, 'n_estimators': 200}"
      ]
     },
     "execution_count": 171,
     "metadata": {},
     "output_type": "execute_result"
    }
   ],
   "source": [
    "best_param"
   ]
  },
  {
   "cell_type": "code",
   "execution_count": 172,
   "metadata": {},
   "outputs": [
    {
     "name": "stdout",
     "output_type": "stream",
     "text": [
      "0.7811608772639813\n"
     ]
    }
   ],
   "source": [
    "print(grid_search.best_score_)"
   ]
  },
  {
   "cell_type": "markdown",
   "metadata": {},
   "source": [
    "<h3> Applying K Fold Cross Validation </h3>"
   ]
  },
  {
   "cell_type": "code",
   "execution_count": 88,
   "metadata": {},
   "outputs": [
    {
     "data": {
      "text/plain": [
       "0.7707549922567212"
      ]
     },
     "execution_count": 88,
     "metadata": {},
     "output_type": "execute_result"
    }
   ],
   "source": [
    "#Applying K Fold Cross Validation\n",
    "from sklearn.model_selection import cross_val_score\n",
    "accuracies= cross_val_score(estimator= regressor_RF, X= train.iloc[:,1:8], y= train.iloc[:,0], cv= 10)\n",
    "accuracies.mean()\n"
   ]
  },
  {
   "cell_type": "code",
   "execution_count": 173,
   "metadata": {},
   "outputs": [],
   "source": [
    "#Applying model on test data\n",
    "prediction_test_RF= regressor_RF.predict(cab_test)"
   ]
  },
  {
   "cell_type": "code",
   "execution_count": 174,
   "metadata": {},
   "outputs": [
    {
     "data": {
      "text/plain": [
       "array([2.27772156, 2.33158788, 1.71582102, ..., 3.9524591 , 3.09286109,\n",
       "       1.9239356 ])"
      ]
     },
     "execution_count": 174,
     "metadata": {},
     "output_type": "execute_result"
    }
   ],
   "source": [
    "prediction_test_RF"
   ]
  },
  {
   "cell_type": "code",
   "execution_count": 175,
   "metadata": {},
   "outputs": [],
   "source": [
    "cab_test['Predicted_fare'] = prediction_test_RF"
   ]
  },
  {
   "cell_type": "code",
   "execution_count": 176,
   "metadata": {},
   "outputs": [
    {
     "data": {
      "text/html": [
       "<div>\n",
       "<style scoped>\n",
       "    .dataframe tbody tr th:only-of-type {\n",
       "        vertical-align: middle;\n",
       "    }\n",
       "\n",
       "    .dataframe tbody tr th {\n",
       "        vertical-align: top;\n",
       "    }\n",
       "\n",
       "    .dataframe thead th {\n",
       "        text-align: right;\n",
       "    }\n",
       "</style>\n",
       "<table border=\"1\" class=\"dataframe\">\n",
       "  <thead>\n",
       "    <tr style=\"text-align: right;\">\n",
       "      <th></th>\n",
       "      <th>passenger_count</th>\n",
       "      <th>pickup_date</th>\n",
       "      <th>pickup_hour</th>\n",
       "      <th>pickup_month</th>\n",
       "      <th>pickup_weekday</th>\n",
       "      <th>pickup_minute</th>\n",
       "      <th>distance</th>\n",
       "      <th>Predicted_fare</th>\n",
       "    </tr>\n",
       "  </thead>\n",
       "  <tbody>\n",
       "    <tr>\n",
       "      <th>0</th>\n",
       "      <td>1</td>\n",
       "      <td>27</td>\n",
       "      <td>13</td>\n",
       "      <td>1</td>\n",
       "      <td>1</td>\n",
       "      <td>8</td>\n",
       "      <td>1.200946</td>\n",
       "      <td>2.277722</td>\n",
       "    </tr>\n",
       "    <tr>\n",
       "      <th>1</th>\n",
       "      <td>1</td>\n",
       "      <td>27</td>\n",
       "      <td>13</td>\n",
       "      <td>1</td>\n",
       "      <td>1</td>\n",
       "      <td>8</td>\n",
       "      <td>1.231205</td>\n",
       "      <td>2.331588</td>\n",
       "    </tr>\n",
       "    <tr>\n",
       "      <th>2</th>\n",
       "      <td>1</td>\n",
       "      <td>8</td>\n",
       "      <td>11</td>\n",
       "      <td>10</td>\n",
       "      <td>5</td>\n",
       "      <td>53</td>\n",
       "      <td>0.481579</td>\n",
       "      <td>1.715821</td>\n",
       "    </tr>\n",
       "    <tr>\n",
       "      <th>3</th>\n",
       "      <td>1</td>\n",
       "      <td>1</td>\n",
       "      <td>21</td>\n",
       "      <td>12</td>\n",
       "      <td>5</td>\n",
       "      <td>12</td>\n",
       "      <td>1.085538</td>\n",
       "      <td>2.176833</td>\n",
       "    </tr>\n",
       "    <tr>\n",
       "      <th>4</th>\n",
       "      <td>1</td>\n",
       "      <td>1</td>\n",
       "      <td>21</td>\n",
       "      <td>12</td>\n",
       "      <td>5</td>\n",
       "      <td>12</td>\n",
       "      <td>1.854312</td>\n",
       "      <td>2.724361</td>\n",
       "    </tr>\n",
       "  </tbody>\n",
       "</table>\n",
       "</div>"
      ],
      "text/plain": [
       "   passenger_count  pickup_date  pickup_hour  pickup_month  pickup_weekday  \\\n",
       "0                1           27           13             1               1   \n",
       "1                1           27           13             1               1   \n",
       "2                1            8           11            10               5   \n",
       "3                1            1           21            12               5   \n",
       "4                1            1           21            12               5   \n",
       "\n",
       "   pickup_minute  distance  Predicted_fare  \n",
       "0              8  1.200946        2.277722  \n",
       "1              8  1.231205        2.331588  \n",
       "2             53  0.481579        1.715821  \n",
       "3             12  1.085538        2.176833  \n",
       "4             12  1.854312        2.724361  "
      ]
     },
     "execution_count": 176,
     "metadata": {},
     "output_type": "execute_result"
    }
   ],
   "source": [
    "cab_test.head()"
   ]
  },
  {
   "cell_type": "code",
   "execution_count": 87,
   "metadata": {},
   "outputs": [],
   "source": [
    "cab_test.to_csv('Cab_fare_Prediction_output.csv', index= False)"
   ]
  },
  {
   "cell_type": "code",
   "execution_count": null,
   "metadata": {},
   "outputs": [],
   "source": []
  }
 ],
 "metadata": {
  "kernelspec": {
   "display_name": "Python 2",
   "language": "python",
   "name": "python2"
  },
  "language_info": {
   "codemirror_mode": {
    "name": "ipython",
    "version": 2
   },
   "file_extension": ".py",
   "mimetype": "text/x-python",
   "name": "python",
   "nbconvert_exporter": "python",
   "pygments_lexer": "ipython2",
   "version": "2.7.16"
  }
 },
 "nbformat": 4,
 "nbformat_minor": 2
}
